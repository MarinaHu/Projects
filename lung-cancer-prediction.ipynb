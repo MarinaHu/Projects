{
 "cells": [
  {
   "cell_type": "code",
   "execution_count": 1,
   "id": "de8d4744",
   "metadata": {
    "_cell_guid": "b1076dfc-b9ad-4769-8c92-a6c4dae69d19",
    "_uuid": "8f2839f25d086af736a60e9eeb907d3b93b6e0e5",
    "execution": {
     "iopub.execute_input": "2024-07-07T20:41:42.651521Z",
     "iopub.status.busy": "2024-07-07T20:41:42.650963Z",
     "iopub.status.idle": "2024-07-07T20:42:00.104730Z",
     "shell.execute_reply": "2024-07-07T20:42:00.103491Z"
    },
    "papermill": {
     "duration": 17.46803,
     "end_time": "2024-07-07T20:42:00.108119",
     "exception": false,
     "start_time": "2024-07-07T20:41:42.640089",
     "status": "completed"
    },
    "tags": []
   },
   "outputs": [
    {
     "name": "stdout",
     "output_type": "stream",
     "text": [
      "/kaggle/input/lung-cancer-prediction/lung_cancer_data.csv\n"
     ]
    },
    {
     "name": "stderr",
     "output_type": "stream",
     "text": [
      "2024-07-07 20:41:47.591929: E external/local_xla/xla/stream_executor/cuda/cuda_dnn.cc:9261] Unable to register cuDNN factory: Attempting to register factory for plugin cuDNN when one has already been registered\n",
      "2024-07-07 20:41:47.592061: E external/local_xla/xla/stream_executor/cuda/cuda_fft.cc:607] Unable to register cuFFT factory: Attempting to register factory for plugin cuFFT when one has already been registered\n",
      "2024-07-07 20:41:47.760732: E external/local_xla/xla/stream_executor/cuda/cuda_blas.cc:1515] Unable to register cuBLAS factory: Attempting to register factory for plugin cuBLAS when one has already been registered\n"
     ]
    }
   ],
   "source": [
    "# This Python 3 environment comes with many helpful analytics libraries installed\n",
    "# It is defined by the kaggle/python Docker image: https://github.com/kaggle/docker-python\n",
    "# For example, here's several helpful packages to load\n",
    "\n",
    "import numpy as np # linear algebra\n",
    "import pandas as pd # data processing, CSV file I/O (e.g. pd.read_csv)\n",
    "from sklearn.model_selection import train_test_split\n",
    "from sklearn.metrics import mean_absolute_error\n",
    "\n",
    "# Input data files are available in the read-only \"../input/\" directory\n",
    "# For example, running this (by clicking run or pressing Shift+Enter) will list all files under the input directory\n",
    "\n",
    "import os\n",
    "for dirname, _, filenames in os.walk('/kaggle/input'):\n",
    "    for filename in filenames:\n",
    "        print(os.path.join(dirname, filename))\n",
    "\n",
    "from tensorflow import keras\n",
    "from tensorflow.keras import layers\n",
    "# You can write up to 20GB to the current directory (/kaggle/working/) that gets preserved as output when you create a version using \"Save & Run All\" \n",
    "# You can also write temporary files to /kaggle/temp/, but they won't be saved outside of the current session"
   ]
  },
  {
   "cell_type": "markdown",
   "id": "561cda5d",
   "metadata": {
    "papermill": {
     "duration": 0.007254,
     "end_time": "2024-07-07T20:42:00.123265",
     "exception": false,
     "start_time": "2024-07-07T20:42:00.116011",
     "status": "completed"
    },
    "tags": []
   },
   "source": [
    "# Import Data"
   ]
  },
  {
   "cell_type": "code",
   "execution_count": 2,
   "id": "8c92402b",
   "metadata": {
    "execution": {
     "iopub.execute_input": "2024-07-07T20:42:00.143805Z",
     "iopub.status.busy": "2024-07-07T20:42:00.142931Z",
     "iopub.status.idle": "2024-07-07T20:42:00.556639Z",
     "shell.execute_reply": "2024-07-07T20:42:00.555271Z"
    },
    "papermill": {
     "duration": 0.426124,
     "end_time": "2024-07-07T20:42:00.559576",
     "exception": false,
     "start_time": "2024-07-07T20:42:00.133452",
     "status": "completed"
    },
    "tags": []
   },
   "outputs": [
    {
     "data": {
      "text/html": [
       "<div>\n",
       "<style scoped>\n",
       "    .dataframe tbody tr th:only-of-type {\n",
       "        vertical-align: middle;\n",
       "    }\n",
       "\n",
       "    .dataframe tbody tr th {\n",
       "        vertical-align: top;\n",
       "    }\n",
       "\n",
       "    .dataframe thead th {\n",
       "        text-align: right;\n",
       "    }\n",
       "</style>\n",
       "<table border=\"1\" class=\"dataframe\">\n",
       "  <thead>\n",
       "    <tr style=\"text-align: right;\">\n",
       "      <th></th>\n",
       "      <th>Patient_ID</th>\n",
       "      <th>Age</th>\n",
       "      <th>Gender</th>\n",
       "      <th>Smoking_History</th>\n",
       "      <th>Tumor_Size_mm</th>\n",
       "      <th>Tumor_Location</th>\n",
       "      <th>Stage</th>\n",
       "      <th>Treatment</th>\n",
       "      <th>Survival_Months</th>\n",
       "      <th>Ethnicity</th>\n",
       "      <th>...</th>\n",
       "      <th>Alanine_Aminotransferase_Level</th>\n",
       "      <th>Aspartate_Aminotransferase_Level</th>\n",
       "      <th>Creatinine_Level</th>\n",
       "      <th>LDH_Level</th>\n",
       "      <th>Calcium_Level</th>\n",
       "      <th>Phosphorus_Level</th>\n",
       "      <th>Glucose_Level</th>\n",
       "      <th>Potassium_Level</th>\n",
       "      <th>Sodium_Level</th>\n",
       "      <th>Smoking_Pack_Years</th>\n",
       "    </tr>\n",
       "  </thead>\n",
       "  <tbody>\n",
       "    <tr>\n",
       "      <th>0</th>\n",
       "      <td>Patient0000</td>\n",
       "      <td>68</td>\n",
       "      <td>Male</td>\n",
       "      <td>Current Smoker</td>\n",
       "      <td>81.678677</td>\n",
       "      <td>Lower Lobe</td>\n",
       "      <td>Stage III</td>\n",
       "      <td>Surgery</td>\n",
       "      <td>44</td>\n",
       "      <td>Hispanic</td>\n",
       "      <td>...</td>\n",
       "      <td>27.985571</td>\n",
       "      <td>46.801214</td>\n",
       "      <td>1.245849</td>\n",
       "      <td>239.240255</td>\n",
       "      <td>10.366307</td>\n",
       "      <td>3.547734</td>\n",
       "      <td>113.919243</td>\n",
       "      <td>4.968163</td>\n",
       "      <td>139.822861</td>\n",
       "      <td>17.006956</td>\n",
       "    </tr>\n",
       "    <tr>\n",
       "      <th>1</th>\n",
       "      <td>Patient0001</td>\n",
       "      <td>58</td>\n",
       "      <td>Male</td>\n",
       "      <td>Never Smoked</td>\n",
       "      <td>78.448272</td>\n",
       "      <td>Lower Lobe</td>\n",
       "      <td>Stage I</td>\n",
       "      <td>Radiation Therapy</td>\n",
       "      <td>101</td>\n",
       "      <td>Caucasian</td>\n",
       "      <td>...</td>\n",
       "      <td>30.120956</td>\n",
       "      <td>39.711531</td>\n",
       "      <td>1.463231</td>\n",
       "      <td>233.515237</td>\n",
       "      <td>10.081731</td>\n",
       "      <td>2.945020</td>\n",
       "      <td>101.321578</td>\n",
       "      <td>3.896795</td>\n",
       "      <td>135.449361</td>\n",
       "      <td>93.270893</td>\n",
       "    </tr>\n",
       "    <tr>\n",
       "      <th>2</th>\n",
       "      <td>Patient0002</td>\n",
       "      <td>44</td>\n",
       "      <td>Male</td>\n",
       "      <td>Former Smoker</td>\n",
       "      <td>67.714305</td>\n",
       "      <td>Lower Lobe</td>\n",
       "      <td>Stage I</td>\n",
       "      <td>Chemotherapy</td>\n",
       "      <td>69</td>\n",
       "      <td>African American</td>\n",
       "      <td>...</td>\n",
       "      <td>5.882418</td>\n",
       "      <td>32.640602</td>\n",
       "      <td>0.630109</td>\n",
       "      <td>169.037460</td>\n",
       "      <td>8.660892</td>\n",
       "      <td>4.637399</td>\n",
       "      <td>78.214177</td>\n",
       "      <td>4.369050</td>\n",
       "      <td>143.377155</td>\n",
       "      <td>70.348376</td>\n",
       "    </tr>\n",
       "    <tr>\n",
       "      <th>3</th>\n",
       "      <td>Patient0003</td>\n",
       "      <td>72</td>\n",
       "      <td>Male</td>\n",
       "      <td>Current Smoker</td>\n",
       "      <td>70.806008</td>\n",
       "      <td>Lower Lobe</td>\n",
       "      <td>Stage III</td>\n",
       "      <td>Chemotherapy</td>\n",
       "      <td>95</td>\n",
       "      <td>African American</td>\n",
       "      <td>...</td>\n",
       "      <td>38.908154</td>\n",
       "      <td>44.319393</td>\n",
       "      <td>0.594342</td>\n",
       "      <td>213.967590</td>\n",
       "      <td>8.832669</td>\n",
       "      <td>3.617098</td>\n",
       "      <td>127.895361</td>\n",
       "      <td>4.348474</td>\n",
       "      <td>138.586005</td>\n",
       "      <td>19.828128</td>\n",
       "    </tr>\n",
       "    <tr>\n",
       "      <th>4</th>\n",
       "      <td>Patient0004</td>\n",
       "      <td>37</td>\n",
       "      <td>Female</td>\n",
       "      <td>Never Smoked</td>\n",
       "      <td>87.272433</td>\n",
       "      <td>Lower Lobe</td>\n",
       "      <td>Stage IV</td>\n",
       "      <td>Radiation Therapy</td>\n",
       "      <td>105</td>\n",
       "      <td>Asian</td>\n",
       "      <td>...</td>\n",
       "      <td>26.344877</td>\n",
       "      <td>15.746906</td>\n",
       "      <td>1.478239</td>\n",
       "      <td>118.187543</td>\n",
       "      <td>9.247609</td>\n",
       "      <td>4.773255</td>\n",
       "      <td>148.801185</td>\n",
       "      <td>3.671976</td>\n",
       "      <td>141.230724</td>\n",
       "      <td>81.047456</td>\n",
       "    </tr>\n",
       "  </tbody>\n",
       "</table>\n",
       "<p>5 rows × 38 columns</p>\n",
       "</div>"
      ],
      "text/plain": [
       "    Patient_ID  Age  Gender Smoking_History  Tumor_Size_mm Tumor_Location  \\\n",
       "0  Patient0000   68    Male  Current Smoker      81.678677     Lower Lobe   \n",
       "1  Patient0001   58    Male    Never Smoked      78.448272     Lower Lobe   \n",
       "2  Patient0002   44    Male   Former Smoker      67.714305     Lower Lobe   \n",
       "3  Patient0003   72    Male  Current Smoker      70.806008     Lower Lobe   \n",
       "4  Patient0004   37  Female    Never Smoked      87.272433     Lower Lobe   \n",
       "\n",
       "       Stage          Treatment  Survival_Months         Ethnicity  ...  \\\n",
       "0  Stage III            Surgery               44          Hispanic  ...   \n",
       "1    Stage I  Radiation Therapy              101         Caucasian  ...   \n",
       "2    Stage I       Chemotherapy               69  African American  ...   \n",
       "3  Stage III       Chemotherapy               95  African American  ...   \n",
       "4   Stage IV  Radiation Therapy              105             Asian  ...   \n",
       "\n",
       "  Alanine_Aminotransferase_Level Aspartate_Aminotransferase_Level  \\\n",
       "0                      27.985571                        46.801214   \n",
       "1                      30.120956                        39.711531   \n",
       "2                       5.882418                        32.640602   \n",
       "3                      38.908154                        44.319393   \n",
       "4                      26.344877                        15.746906   \n",
       "\n",
       "  Creatinine_Level   LDH_Level Calcium_Level Phosphorus_Level Glucose_Level  \\\n",
       "0         1.245849  239.240255     10.366307         3.547734    113.919243   \n",
       "1         1.463231  233.515237     10.081731         2.945020    101.321578   \n",
       "2         0.630109  169.037460      8.660892         4.637399     78.214177   \n",
       "3         0.594342  213.967590      8.832669         3.617098    127.895361   \n",
       "4         1.478239  118.187543      9.247609         4.773255    148.801185   \n",
       "\n",
       "  Potassium_Level Sodium_Level  Smoking_Pack_Years  \n",
       "0        4.968163   139.822861           17.006956  \n",
       "1        3.896795   135.449361           93.270893  \n",
       "2        4.369050   143.377155           70.348376  \n",
       "3        4.348474   138.586005           19.828128  \n",
       "4        3.671976   141.230724           81.047456  \n",
       "\n",
       "[5 rows x 38 columns]"
      ]
     },
     "execution_count": 2,
     "metadata": {},
     "output_type": "execute_result"
    }
   ],
   "source": [
    "data = pd.read_csv('/kaggle/input/lung-cancer-prediction/lung_cancer_data.csv')\n",
    "data.head()"
   ]
  },
  {
   "cell_type": "code",
   "execution_count": 3,
   "id": "8442d7d0",
   "metadata": {
    "execution": {
     "iopub.execute_input": "2024-07-07T20:42:00.578983Z",
     "iopub.status.busy": "2024-07-07T20:42:00.577638Z",
     "iopub.status.idle": "2024-07-07T20:42:00.675175Z",
     "shell.execute_reply": "2024-07-07T20:42:00.673769Z"
    },
    "papermill": {
     "duration": 0.110006,
     "end_time": "2024-07-07T20:42:00.678194",
     "exception": false,
     "start_time": "2024-07-07T20:42:00.568188",
     "status": "completed"
    },
    "tags": []
   },
   "outputs": [
    {
     "data": {
      "text/html": [
       "<div>\n",
       "<style scoped>\n",
       "    .dataframe tbody tr th:only-of-type {\n",
       "        vertical-align: middle;\n",
       "    }\n",
       "\n",
       "    .dataframe tbody tr th {\n",
       "        vertical-align: top;\n",
       "    }\n",
       "\n",
       "    .dataframe thead th {\n",
       "        text-align: right;\n",
       "    }\n",
       "</style>\n",
       "<table border=\"1\" class=\"dataframe\">\n",
       "  <thead>\n",
       "    <tr style=\"text-align: right;\">\n",
       "      <th></th>\n",
       "      <th>Age</th>\n",
       "      <th>Tumor_Size_mm</th>\n",
       "      <th>Survival_Months</th>\n",
       "      <th>Performance_Status</th>\n",
       "      <th>Blood_Pressure_Systolic</th>\n",
       "      <th>Blood_Pressure_Diastolic</th>\n",
       "      <th>Blood_Pressure_Pulse</th>\n",
       "      <th>Hemoglobin_Level</th>\n",
       "      <th>White_Blood_Cell_Count</th>\n",
       "      <th>Platelet_Count</th>\n",
       "      <th>...</th>\n",
       "      <th>Alanine_Aminotransferase_Level</th>\n",
       "      <th>Aspartate_Aminotransferase_Level</th>\n",
       "      <th>Creatinine_Level</th>\n",
       "      <th>LDH_Level</th>\n",
       "      <th>Calcium_Level</th>\n",
       "      <th>Phosphorus_Level</th>\n",
       "      <th>Glucose_Level</th>\n",
       "      <th>Potassium_Level</th>\n",
       "      <th>Sodium_Level</th>\n",
       "      <th>Smoking_Pack_Years</th>\n",
       "    </tr>\n",
       "  </thead>\n",
       "  <tbody>\n",
       "    <tr>\n",
       "      <th>count</th>\n",
       "      <td>23658.000000</td>\n",
       "      <td>23658.000000</td>\n",
       "      <td>23658.000000</td>\n",
       "      <td>23658.000000</td>\n",
       "      <td>23658.000000</td>\n",
       "      <td>23658.000000</td>\n",
       "      <td>23658.000000</td>\n",
       "      <td>23658.000000</td>\n",
       "      <td>23658.000000</td>\n",
       "      <td>23658.000000</td>\n",
       "      <td>...</td>\n",
       "      <td>23658.000000</td>\n",
       "      <td>23658.000000</td>\n",
       "      <td>23658.000000</td>\n",
       "      <td>23658.000000</td>\n",
       "      <td>23658.000000</td>\n",
       "      <td>23658.000000</td>\n",
       "      <td>23658.000000</td>\n",
       "      <td>23658.000000</td>\n",
       "      <td>23658.000000</td>\n",
       "      <td>23658.000000</td>\n",
       "    </tr>\n",
       "    <tr>\n",
       "      <th>mean</th>\n",
       "      <td>54.439344</td>\n",
       "      <td>55.383736</td>\n",
       "      <td>59.863809</td>\n",
       "      <td>1.999915</td>\n",
       "      <td>134.462381</td>\n",
       "      <td>84.475780</td>\n",
       "      <td>79.585299</td>\n",
       "      <td>14.000137</td>\n",
       "      <td>6.735637</td>\n",
       "      <td>299.867482</td>\n",
       "      <td>...</td>\n",
       "      <td>22.504677</td>\n",
       "      <td>30.133226</td>\n",
       "      <td>0.999459</td>\n",
       "      <td>174.734575</td>\n",
       "      <td>9.261114</td>\n",
       "      <td>3.742771</td>\n",
       "      <td>109.895553</td>\n",
       "      <td>4.245646</td>\n",
       "      <td>140.028215</td>\n",
       "      <td>49.913594</td>\n",
       "    </tr>\n",
       "    <tr>\n",
       "      <th>std</th>\n",
       "      <td>14.396386</td>\n",
       "      <td>26.004354</td>\n",
       "      <td>34.246042</td>\n",
       "      <td>1.413675</td>\n",
       "      <td>26.020492</td>\n",
       "      <td>14.409826</td>\n",
       "      <td>11.546690</td>\n",
       "      <td>2.301411</td>\n",
       "      <td>1.879292</td>\n",
       "      <td>86.897568</td>\n",
       "      <td>...</td>\n",
       "      <td>10.047864</td>\n",
       "      <td>11.560915</td>\n",
       "      <td>0.287517</td>\n",
       "      <td>43.230997</td>\n",
       "      <td>0.719875</td>\n",
       "      <td>0.721708</td>\n",
       "      <td>23.109136</td>\n",
       "      <td>0.431968</td>\n",
       "      <td>2.894568</td>\n",
       "      <td>28.870940</td>\n",
       "    </tr>\n",
       "    <tr>\n",
       "      <th>min</th>\n",
       "      <td>30.000000</td>\n",
       "      <td>10.004279</td>\n",
       "      <td>1.000000</td>\n",
       "      <td>0.000000</td>\n",
       "      <td>90.000000</td>\n",
       "      <td>60.000000</td>\n",
       "      <td>60.000000</td>\n",
       "      <td>10.000070</td>\n",
       "      <td>3.501213</td>\n",
       "      <td>150.017892</td>\n",
       "      <td>...</td>\n",
       "      <td>5.001090</td>\n",
       "      <td>10.000860</td>\n",
       "      <td>0.500001</td>\n",
       "      <td>100.002721</td>\n",
       "      <td>8.000018</td>\n",
       "      <td>2.500069</td>\n",
       "      <td>70.000420</td>\n",
       "      <td>3.500034</td>\n",
       "      <td>135.000934</td>\n",
       "      <td>0.016800</td>\n",
       "    </tr>\n",
       "    <tr>\n",
       "      <th>25%</th>\n",
       "      <td>42.000000</td>\n",
       "      <td>32.972797</td>\n",
       "      <td>30.000000</td>\n",
       "      <td>1.000000</td>\n",
       "      <td>112.000000</td>\n",
       "      <td>72.000000</td>\n",
       "      <td>70.000000</td>\n",
       "      <td>11.990625</td>\n",
       "      <td>5.108723</td>\n",
       "      <td>224.884576</td>\n",
       "      <td>...</td>\n",
       "      <td>13.816180</td>\n",
       "      <td>20.065339</td>\n",
       "      <td>0.748845</td>\n",
       "      <td>137.444977</td>\n",
       "      <td>8.640877</td>\n",
       "      <td>3.120107</td>\n",
       "      <td>89.828616</td>\n",
       "      <td>3.871842</td>\n",
       "      <td>137.540078</td>\n",
       "      <td>25.026793</td>\n",
       "    </tr>\n",
       "    <tr>\n",
       "      <th>50%</th>\n",
       "      <td>54.000000</td>\n",
       "      <td>55.296297</td>\n",
       "      <td>60.000000</td>\n",
       "      <td>2.000000</td>\n",
       "      <td>134.000000</td>\n",
       "      <td>85.000000</td>\n",
       "      <td>80.000000</td>\n",
       "      <td>13.983383</td>\n",
       "      <td>6.729774</td>\n",
       "      <td>299.933443</td>\n",
       "      <td>...</td>\n",
       "      <td>22.547943</td>\n",
       "      <td>30.271772</td>\n",
       "      <td>1.001183</td>\n",
       "      <td>174.390634</td>\n",
       "      <td>9.259304</td>\n",
       "      <td>3.730837</td>\n",
       "      <td>109.949488</td>\n",
       "      <td>4.242236</td>\n",
       "      <td>140.002209</td>\n",
       "      <td>49.926220</td>\n",
       "    </tr>\n",
       "    <tr>\n",
       "      <th>75%</th>\n",
       "      <td>67.000000</td>\n",
       "      <td>78.190014</td>\n",
       "      <td>89.000000</td>\n",
       "      <td>3.000000</td>\n",
       "      <td>157.000000</td>\n",
       "      <td>97.000000</td>\n",
       "      <td>90.000000</td>\n",
       "      <td>15.999260</td>\n",
       "      <td>8.353701</td>\n",
       "      <td>375.437029</td>\n",
       "      <td>...</td>\n",
       "      <td>31.092935</td>\n",
       "      <td>40.107488</td>\n",
       "      <td>1.249173</td>\n",
       "      <td>212.228273</td>\n",
       "      <td>9.883248</td>\n",
       "      <td>4.364422</td>\n",
       "      <td>130.061977</td>\n",
       "      <td>4.618318</td>\n",
       "      <td>142.541883</td>\n",
       "      <td>74.924580</td>\n",
       "    </tr>\n",
       "    <tr>\n",
       "      <th>max</th>\n",
       "      <td>79.000000</td>\n",
       "      <td>99.990554</td>\n",
       "      <td>119.000000</td>\n",
       "      <td>4.000000</td>\n",
       "      <td>179.000000</td>\n",
       "      <td>109.000000</td>\n",
       "      <td>99.000000</td>\n",
       "      <td>17.999957</td>\n",
       "      <td>9.999535</td>\n",
       "      <td>449.974734</td>\n",
       "      <td>...</td>\n",
       "      <td>39.999543</td>\n",
       "      <td>49.998571</td>\n",
       "      <td>1.499998</td>\n",
       "      <td>249.996391</td>\n",
       "      <td>10.499913</td>\n",
       "      <td>4.999974</td>\n",
       "      <td>149.997056</td>\n",
       "      <td>4.999954</td>\n",
       "      <td>144.999869</td>\n",
       "      <td>99.999493</td>\n",
       "    </tr>\n",
       "  </tbody>\n",
       "</table>\n",
       "<p>8 rows × 22 columns</p>\n",
       "</div>"
      ],
      "text/plain": [
       "                Age  Tumor_Size_mm  Survival_Months  Performance_Status  \\\n",
       "count  23658.000000   23658.000000     23658.000000        23658.000000   \n",
       "mean      54.439344      55.383736        59.863809            1.999915   \n",
       "std       14.396386      26.004354        34.246042            1.413675   \n",
       "min       30.000000      10.004279         1.000000            0.000000   \n",
       "25%       42.000000      32.972797        30.000000            1.000000   \n",
       "50%       54.000000      55.296297        60.000000            2.000000   \n",
       "75%       67.000000      78.190014        89.000000            3.000000   \n",
       "max       79.000000      99.990554       119.000000            4.000000   \n",
       "\n",
       "       Blood_Pressure_Systolic  Blood_Pressure_Diastolic  \\\n",
       "count             23658.000000              23658.000000   \n",
       "mean                134.462381                 84.475780   \n",
       "std                  26.020492                 14.409826   \n",
       "min                  90.000000                 60.000000   \n",
       "25%                 112.000000                 72.000000   \n",
       "50%                 134.000000                 85.000000   \n",
       "75%                 157.000000                 97.000000   \n",
       "max                 179.000000                109.000000   \n",
       "\n",
       "       Blood_Pressure_Pulse  Hemoglobin_Level  White_Blood_Cell_Count  \\\n",
       "count          23658.000000      23658.000000            23658.000000   \n",
       "mean              79.585299         14.000137                6.735637   \n",
       "std               11.546690          2.301411                1.879292   \n",
       "min               60.000000         10.000070                3.501213   \n",
       "25%               70.000000         11.990625                5.108723   \n",
       "50%               80.000000         13.983383                6.729774   \n",
       "75%               90.000000         15.999260                8.353701   \n",
       "max               99.000000         17.999957                9.999535   \n",
       "\n",
       "       Platelet_Count  ...  Alanine_Aminotransferase_Level  \\\n",
       "count    23658.000000  ...                    23658.000000   \n",
       "mean       299.867482  ...                       22.504677   \n",
       "std         86.897568  ...                       10.047864   \n",
       "min        150.017892  ...                        5.001090   \n",
       "25%        224.884576  ...                       13.816180   \n",
       "50%        299.933443  ...                       22.547943   \n",
       "75%        375.437029  ...                       31.092935   \n",
       "max        449.974734  ...                       39.999543   \n",
       "\n",
       "       Aspartate_Aminotransferase_Level  Creatinine_Level     LDH_Level  \\\n",
       "count                      23658.000000      23658.000000  23658.000000   \n",
       "mean                          30.133226          0.999459    174.734575   \n",
       "std                           11.560915          0.287517     43.230997   \n",
       "min                           10.000860          0.500001    100.002721   \n",
       "25%                           20.065339          0.748845    137.444977   \n",
       "50%                           30.271772          1.001183    174.390634   \n",
       "75%                           40.107488          1.249173    212.228273   \n",
       "max                           49.998571          1.499998    249.996391   \n",
       "\n",
       "       Calcium_Level  Phosphorus_Level  Glucose_Level  Potassium_Level  \\\n",
       "count   23658.000000      23658.000000   23658.000000     23658.000000   \n",
       "mean        9.261114          3.742771     109.895553         4.245646   \n",
       "std         0.719875          0.721708      23.109136         0.431968   \n",
       "min         8.000018          2.500069      70.000420         3.500034   \n",
       "25%         8.640877          3.120107      89.828616         3.871842   \n",
       "50%         9.259304          3.730837     109.949488         4.242236   \n",
       "75%         9.883248          4.364422     130.061977         4.618318   \n",
       "max        10.499913          4.999974     149.997056         4.999954   \n",
       "\n",
       "       Sodium_Level  Smoking_Pack_Years  \n",
       "count  23658.000000        23658.000000  \n",
       "mean     140.028215           49.913594  \n",
       "std        2.894568           28.870940  \n",
       "min      135.000934            0.016800  \n",
       "25%      137.540078           25.026793  \n",
       "50%      140.002209           49.926220  \n",
       "75%      142.541883           74.924580  \n",
       "max      144.999869           99.999493  \n",
       "\n",
       "[8 rows x 22 columns]"
      ]
     },
     "execution_count": 3,
     "metadata": {},
     "output_type": "execute_result"
    }
   ],
   "source": [
    "data.describe()"
   ]
  },
  {
   "cell_type": "code",
   "execution_count": 4,
   "id": "3a8ea7f3",
   "metadata": {
    "execution": {
     "iopub.execute_input": "2024-07-07T20:42:00.698071Z",
     "iopub.status.busy": "2024-07-07T20:42:00.697665Z",
     "iopub.status.idle": "2024-07-07T20:42:00.763698Z",
     "shell.execute_reply": "2024-07-07T20:42:00.762111Z"
    },
    "papermill": {
     "duration": 0.080078,
     "end_time": "2024-07-07T20:42:00.766993",
     "exception": false,
     "start_time": "2024-07-07T20:42:00.686915",
     "status": "completed"
    },
    "tags": []
   },
   "outputs": [
    {
     "name": "stdout",
     "output_type": "stream",
     "text": [
      "<class 'pandas.core.frame.DataFrame'>\n",
      "RangeIndex: 23658 entries, 0 to 23657\n",
      "Data columns (total 38 columns):\n",
      " #   Column                            Non-Null Count  Dtype  \n",
      "---  ------                            --------------  -----  \n",
      " 0   Patient_ID                        23658 non-null  object \n",
      " 1   Age                               23658 non-null  int64  \n",
      " 2   Gender                            23658 non-null  object \n",
      " 3   Smoking_History                   23658 non-null  object \n",
      " 4   Tumor_Size_mm                     23658 non-null  float64\n",
      " 5   Tumor_Location                    23658 non-null  object \n",
      " 6   Stage                             23658 non-null  object \n",
      " 7   Treatment                         23658 non-null  object \n",
      " 8   Survival_Months                   23658 non-null  int64  \n",
      " 9   Ethnicity                         23658 non-null  object \n",
      " 10  Insurance_Type                    23658 non-null  object \n",
      " 11  Family_History                    23658 non-null  object \n",
      " 12  Comorbidity_Diabetes              23658 non-null  object \n",
      " 13  Comorbidity_Hypertension          23658 non-null  object \n",
      " 14  Comorbidity_Heart_Disease         23658 non-null  object \n",
      " 15  Comorbidity_Chronic_Lung_Disease  23658 non-null  object \n",
      " 16  Comorbidity_Kidney_Disease        23658 non-null  object \n",
      " 17  Comorbidity_Autoimmune_Disease    23658 non-null  object \n",
      " 18  Comorbidity_Other                 23658 non-null  object \n",
      " 19  Performance_Status                23658 non-null  int64  \n",
      " 20  Blood_Pressure_Systolic           23658 non-null  int64  \n",
      " 21  Blood_Pressure_Diastolic          23658 non-null  int64  \n",
      " 22  Blood_Pressure_Pulse              23658 non-null  int64  \n",
      " 23  Hemoglobin_Level                  23658 non-null  float64\n",
      " 24  White_Blood_Cell_Count            23658 non-null  float64\n",
      " 25  Platelet_Count                    23658 non-null  float64\n",
      " 26  Albumin_Level                     23658 non-null  float64\n",
      " 27  Alkaline_Phosphatase_Level        23658 non-null  float64\n",
      " 28  Alanine_Aminotransferase_Level    23658 non-null  float64\n",
      " 29  Aspartate_Aminotransferase_Level  23658 non-null  float64\n",
      " 30  Creatinine_Level                  23658 non-null  float64\n",
      " 31  LDH_Level                         23658 non-null  float64\n",
      " 32  Calcium_Level                     23658 non-null  float64\n",
      " 33  Phosphorus_Level                  23658 non-null  float64\n",
      " 34  Glucose_Level                     23658 non-null  float64\n",
      " 35  Potassium_Level                   23658 non-null  float64\n",
      " 36  Sodium_Level                      23658 non-null  float64\n",
      " 37  Smoking_Pack_Years                23658 non-null  float64\n",
      "dtypes: float64(16), int64(6), object(16)\n",
      "memory usage: 6.9+ MB\n"
     ]
    }
   ],
   "source": [
    "data.info()"
   ]
  },
  {
   "cell_type": "code",
   "execution_count": 5,
   "id": "47d0caf0",
   "metadata": {
    "execution": {
     "iopub.execute_input": "2024-07-07T20:42:00.787829Z",
     "iopub.status.busy": "2024-07-07T20:42:00.787318Z",
     "iopub.status.idle": "2024-07-07T20:42:00.795797Z",
     "shell.execute_reply": "2024-07-07T20:42:00.794289Z"
    },
    "papermill": {
     "duration": 0.021627,
     "end_time": "2024-07-07T20:42:00.798668",
     "exception": false,
     "start_time": "2024-07-07T20:42:00.777041",
     "status": "completed"
    },
    "tags": []
   },
   "outputs": [
    {
     "data": {
      "text/plain": [
       "(23658, 38)"
      ]
     },
     "execution_count": 5,
     "metadata": {},
     "output_type": "execute_result"
    }
   ],
   "source": [
    "data.shape"
   ]
  },
  {
   "cell_type": "code",
   "execution_count": 6,
   "id": "3fb91ffb",
   "metadata": {
    "execution": {
     "iopub.execute_input": "2024-07-07T20:42:00.818765Z",
     "iopub.status.busy": "2024-07-07T20:42:00.818261Z",
     "iopub.status.idle": "2024-07-07T20:42:01.233251Z",
     "shell.execute_reply": "2024-07-07T20:42:01.231751Z"
    },
    "papermill": {
     "duration": 0.428478,
     "end_time": "2024-07-07T20:42:01.236342",
     "exception": false,
     "start_time": "2024-07-07T20:42:00.807864",
     "status": "completed"
    },
    "tags": []
   },
   "outputs": [
    {
     "name": "stdout",
     "output_type": "stream",
     "text": [
      "['Patient_ID', 'Age', 'Gender', 'Smoking_History', 'Tumor_Size_mm', 'Tumor_Location', 'Stage', 'Treatment', 'Survival_Months', 'Ethnicity', 'Insurance_Type', 'Family_History', 'Comorbidity_Diabetes', 'Comorbidity_Hypertension', 'Comorbidity_Heart_Disease', 'Comorbidity_Chronic_Lung_Disease', 'Comorbidity_Kidney_Disease', 'Comorbidity_Autoimmune_Disease', 'Comorbidity_Other', 'Performance_Status', 'Blood_Pressure_Systolic', 'Blood_Pressure_Diastolic', 'Blood_Pressure_Pulse', 'Hemoglobin_Level', 'White_Blood_Cell_Count', 'Platelet_Count', 'Albumin_Level', 'Alkaline_Phosphatase_Level', 'Alanine_Aminotransferase_Level', 'Aspartate_Aminotransferase_Level', 'Creatinine_Level', 'LDH_Level', 'Calcium_Level', 'Phosphorus_Level', 'Glucose_Level', 'Potassium_Level', 'Sodium_Level', 'Smoking_Pack_Years']\n",
      "[True, False, True, True, False, True, True, True, False, True, True, True, True, True, True, True, True, True, True, False, False, False, False, False, False, False, False, False, False, False, False, False, False, False, False, False, False, False]\n",
      "['Patient_ID', 'Gender', 'Smoking_History', 'Tumor_Location', 'Stage', 'Treatment', 'Ethnicity', 'Insurance_Type', 'Family_History', 'Comorbidity_Diabetes', 'Comorbidity_Hypertension', 'Comorbidity_Heart_Disease', 'Comorbidity_Chronic_Lung_Disease', 'Comorbidity_Kidney_Disease', 'Comorbidity_Autoimmune_Disease', 'Comorbidity_Other']\n"
     ]
    }
   ],
   "source": [
    "features = data.columns.to_list()\n",
    "print(features)\n",
    "col_type = ((data.map(type) == str).all(0) == True).to_list()\n",
    "print(col_type)\n",
    "str_true = []\n",
    "for index, value in enumerate(col_type):\n",
    "    if value == True:\n",
    "        str_true.append(features[index])\n",
    "        \n",
    "print(str_true)"
   ]
  },
  {
   "cell_type": "code",
   "execution_count": 7,
   "id": "e1868e52",
   "metadata": {
    "execution": {
     "iopub.execute_input": "2024-07-07T20:42:01.256174Z",
     "iopub.status.busy": "2024-07-07T20:42:01.255395Z",
     "iopub.status.idle": "2024-07-07T20:42:01.265103Z",
     "shell.execute_reply": "2024-07-07T20:42:01.263640Z"
    },
    "papermill": {
     "duration": 0.022777,
     "end_time": "2024-07-07T20:42:01.268001",
     "exception": false,
     "start_time": "2024-07-07T20:42:01.245224",
     "status": "completed"
    },
    "tags": []
   },
   "outputs": [
    {
     "name": "stdout",
     "output_type": "stream",
     "text": [
      "['Age', 'Gender', 'Smoking_History', 'Tumor_Size_mm', 'Tumor_Location', 'Stage', 'Treatment', 'Ethnicity', 'Insurance_Type', 'Family_History', 'Comorbidity_Diabetes', 'Comorbidity_Hypertension', 'Comorbidity_Heart_Disease', 'Comorbidity_Chronic_Lung_Disease', 'Comorbidity_Kidney_Disease', 'Comorbidity_Autoimmune_Disease', 'Comorbidity_Other', 'Performance_Status', 'Blood_Pressure_Systolic', 'Blood_Pressure_Diastolic', 'Blood_Pressure_Pulse', 'Hemoglobin_Level', 'White_Blood_Cell_Count', 'Platelet_Count', 'Albumin_Level', 'Alkaline_Phosphatase_Level', 'Alanine_Aminotransferase_Level', 'Aspartate_Aminotransferase_Level', 'Creatinine_Level', 'LDH_Level', 'Calcium_Level', 'Phosphorus_Level', 'Glucose_Level', 'Potassium_Level', 'Sodium_Level', 'Smoking_Pack_Years']\n"
     ]
    },
    {
     "data": {
      "text/plain": [
       "'Patient_ID'"
      ]
     },
     "execution_count": 7,
     "metadata": {},
     "output_type": "execute_result"
    }
   ],
   "source": [
    "y = data['Survival_Months']\n",
    "\n",
    "features.pop(0)\n",
    "features.remove('Survival_Months')\n",
    "print(features)\n",
    "str_true.pop(0)"
   ]
  },
  {
   "cell_type": "code",
   "execution_count": 8,
   "id": "797ef704",
   "metadata": {
    "execution": {
     "iopub.execute_input": "2024-07-07T20:42:01.289961Z",
     "iopub.status.busy": "2024-07-07T20:42:01.289553Z",
     "iopub.status.idle": "2024-07-07T20:42:01.380133Z",
     "shell.execute_reply": "2024-07-07T20:42:01.378521Z"
    },
    "papermill": {
     "duration": 0.105095,
     "end_time": "2024-07-07T20:42:01.383297",
     "exception": false,
     "start_time": "2024-07-07T20:42:01.278202",
     "status": "completed"
    },
    "tags": []
   },
   "outputs": [
    {
     "name": "stdout",
     "output_type": "stream",
     "text": [
      "<class 'pandas.core.frame.DataFrame'>\n",
      "RangeIndex: 23658 entries, 0 to 23657\n",
      "Data columns (total 64 columns):\n",
      " #   Column                                Non-Null Count  Dtype  \n",
      "---  ------                                --------------  -----  \n",
      " 0   Patient_ID                            23658 non-null  object \n",
      " 1   Age                                   23658 non-null  int64  \n",
      " 2   Tumor_Size_mm                         23658 non-null  float64\n",
      " 3   Survival_Months                       23658 non-null  int64  \n",
      " 4   Performance_Status                    23658 non-null  int64  \n",
      " 5   Blood_Pressure_Systolic               23658 non-null  int64  \n",
      " 6   Blood_Pressure_Diastolic              23658 non-null  int64  \n",
      " 7   Blood_Pressure_Pulse                  23658 non-null  int64  \n",
      " 8   Hemoglobin_Level                      23658 non-null  float64\n",
      " 9   White_Blood_Cell_Count                23658 non-null  float64\n",
      " 10  Platelet_Count                        23658 non-null  float64\n",
      " 11  Albumin_Level                         23658 non-null  float64\n",
      " 12  Alkaline_Phosphatase_Level            23658 non-null  float64\n",
      " 13  Alanine_Aminotransferase_Level        23658 non-null  float64\n",
      " 14  Aspartate_Aminotransferase_Level      23658 non-null  float64\n",
      " 15  Creatinine_Level                      23658 non-null  float64\n",
      " 16  LDH_Level                             23658 non-null  float64\n",
      " 17  Calcium_Level                         23658 non-null  float64\n",
      " 18  Phosphorus_Level                      23658 non-null  float64\n",
      " 19  Glucose_Level                         23658 non-null  float64\n",
      " 20  Potassium_Level                       23658 non-null  float64\n",
      " 21  Sodium_Level                          23658 non-null  float64\n",
      " 22  Smoking_Pack_Years                    23658 non-null  float64\n",
      " 23  Gender_Female                         23658 non-null  int64  \n",
      " 24  Gender_Male                           23658 non-null  int64  \n",
      " 25  Smoking_History_Current Smoker        23658 non-null  int64  \n",
      " 26  Smoking_History_Former Smoker         23658 non-null  int64  \n",
      " 27  Smoking_History_Never Smoked          23658 non-null  int64  \n",
      " 28  Tumor_Location_Lower Lobe             23658 non-null  int64  \n",
      " 29  Tumor_Location_Middle Lobe            23658 non-null  int64  \n",
      " 30  Tumor_Location_Upper Lobe             23658 non-null  int64  \n",
      " 31  Stage_Stage I                         23658 non-null  int64  \n",
      " 32  Stage_Stage II                        23658 non-null  int64  \n",
      " 33  Stage_Stage III                       23658 non-null  int64  \n",
      " 34  Stage_Stage IV                        23658 non-null  int64  \n",
      " 35  Treatment_Chemotherapy                23658 non-null  int64  \n",
      " 36  Treatment_Radiation Therapy           23658 non-null  int64  \n",
      " 37  Treatment_Surgery                     23658 non-null  int64  \n",
      " 38  Treatment_Targeted Therapy            23658 non-null  int64  \n",
      " 39  Ethnicity_African American            23658 non-null  int64  \n",
      " 40  Ethnicity_Asian                       23658 non-null  int64  \n",
      " 41  Ethnicity_Caucasian                   23658 non-null  int64  \n",
      " 42  Ethnicity_Hispanic                    23658 non-null  int64  \n",
      " 43  Ethnicity_Other                       23658 non-null  int64  \n",
      " 44  Insurance_Type_Medicaid               23658 non-null  int64  \n",
      " 45  Insurance_Type_Medicare               23658 non-null  int64  \n",
      " 46  Insurance_Type_Other                  23658 non-null  int64  \n",
      " 47  Insurance_Type_Private                23658 non-null  int64  \n",
      " 48  Family_History_No                     23658 non-null  int64  \n",
      " 49  Family_History_Yes                    23658 non-null  int64  \n",
      " 50  Comorbidity_Diabetes_No               23658 non-null  int64  \n",
      " 51  Comorbidity_Diabetes_Yes              23658 non-null  int64  \n",
      " 52  Comorbidity_Hypertension_No           23658 non-null  int64  \n",
      " 53  Comorbidity_Hypertension_Yes          23658 non-null  int64  \n",
      " 54  Comorbidity_Heart_Disease_No          23658 non-null  int64  \n",
      " 55  Comorbidity_Heart_Disease_Yes         23658 non-null  int64  \n",
      " 56  Comorbidity_Chronic_Lung_Disease_No   23658 non-null  int64  \n",
      " 57  Comorbidity_Chronic_Lung_Disease_Yes  23658 non-null  int64  \n",
      " 58  Comorbidity_Kidney_Disease_No         23658 non-null  int64  \n",
      " 59  Comorbidity_Kidney_Disease_Yes        23658 non-null  int64  \n",
      " 60  Comorbidity_Autoimmune_Disease_No     23658 non-null  int64  \n",
      " 61  Comorbidity_Autoimmune_Disease_Yes    23658 non-null  int64  \n",
      " 62  Comorbidity_Other_No                  23658 non-null  int64  \n",
      " 63  Comorbidity_Other_Yes                 23658 non-null  int64  \n",
      "dtypes: float64(16), int64(47), object(1)\n",
      "memory usage: 11.6+ MB\n"
     ]
    }
   ],
   "source": [
    "data = pd.get_dummies(data, columns = str_true, dtype=int)\n",
    "data.info()"
   ]
  },
  {
   "cell_type": "code",
   "execution_count": 9,
   "id": "ddefc6dd",
   "metadata": {
    "execution": {
     "iopub.execute_input": "2024-07-07T20:42:01.404325Z",
     "iopub.status.busy": "2024-07-07T20:42:01.403827Z",
     "iopub.status.idle": "2024-07-07T20:42:01.433482Z",
     "shell.execute_reply": "2024-07-07T20:42:01.431834Z"
    },
    "papermill": {
     "duration": 0.043113,
     "end_time": "2024-07-07T20:42:01.436050",
     "exception": false,
     "start_time": "2024-07-07T20:42:01.392937",
     "status": "completed"
    },
    "tags": []
   },
   "outputs": [
    {
     "data": {
      "text/html": [
       "<div>\n",
       "<style scoped>\n",
       "    .dataframe tbody tr th:only-of-type {\n",
       "        vertical-align: middle;\n",
       "    }\n",
       "\n",
       "    .dataframe tbody tr th {\n",
       "        vertical-align: top;\n",
       "    }\n",
       "\n",
       "    .dataframe thead th {\n",
       "        text-align: right;\n",
       "    }\n",
       "</style>\n",
       "<table border=\"1\" class=\"dataframe\">\n",
       "  <thead>\n",
       "    <tr style=\"text-align: right;\">\n",
       "      <th></th>\n",
       "      <th>Patient_ID</th>\n",
       "      <th>Age</th>\n",
       "      <th>Tumor_Size_mm</th>\n",
       "      <th>Survival_Months</th>\n",
       "      <th>Performance_Status</th>\n",
       "      <th>Blood_Pressure_Systolic</th>\n",
       "      <th>Blood_Pressure_Diastolic</th>\n",
       "      <th>Blood_Pressure_Pulse</th>\n",
       "      <th>Hemoglobin_Level</th>\n",
       "      <th>White_Blood_Cell_Count</th>\n",
       "      <th>...</th>\n",
       "      <th>Comorbidity_Heart_Disease_No</th>\n",
       "      <th>Comorbidity_Heart_Disease_Yes</th>\n",
       "      <th>Comorbidity_Chronic_Lung_Disease_No</th>\n",
       "      <th>Comorbidity_Chronic_Lung_Disease_Yes</th>\n",
       "      <th>Comorbidity_Kidney_Disease_No</th>\n",
       "      <th>Comorbidity_Kidney_Disease_Yes</th>\n",
       "      <th>Comorbidity_Autoimmune_Disease_No</th>\n",
       "      <th>Comorbidity_Autoimmune_Disease_Yes</th>\n",
       "      <th>Comorbidity_Other_No</th>\n",
       "      <th>Comorbidity_Other_Yes</th>\n",
       "    </tr>\n",
       "  </thead>\n",
       "  <tbody>\n",
       "    <tr>\n",
       "      <th>0</th>\n",
       "      <td>Patient0000</td>\n",
       "      <td>68</td>\n",
       "      <td>81.678677</td>\n",
       "      <td>44</td>\n",
       "      <td>3</td>\n",
       "      <td>161</td>\n",
       "      <td>99</td>\n",
       "      <td>92</td>\n",
       "      <td>13.538000</td>\n",
       "      <td>9.800707</td>\n",
       "      <td>...</td>\n",
       "      <td>0</td>\n",
       "      <td>1</td>\n",
       "      <td>1</td>\n",
       "      <td>0</td>\n",
       "      <td>0</td>\n",
       "      <td>1</td>\n",
       "      <td>0</td>\n",
       "      <td>1</td>\n",
       "      <td>0</td>\n",
       "      <td>1</td>\n",
       "    </tr>\n",
       "    <tr>\n",
       "      <th>1</th>\n",
       "      <td>Patient0001</td>\n",
       "      <td>58</td>\n",
       "      <td>78.448272</td>\n",
       "      <td>101</td>\n",
       "      <td>4</td>\n",
       "      <td>101</td>\n",
       "      <td>91</td>\n",
       "      <td>93</td>\n",
       "      <td>16.800312</td>\n",
       "      <td>4.378428</td>\n",
       "      <td>...</td>\n",
       "      <td>1</td>\n",
       "      <td>0</td>\n",
       "      <td>1</td>\n",
       "      <td>0</td>\n",
       "      <td>0</td>\n",
       "      <td>1</td>\n",
       "      <td>0</td>\n",
       "      <td>1</td>\n",
       "      <td>1</td>\n",
       "      <td>0</td>\n",
       "    </tr>\n",
       "    <tr>\n",
       "      <th>2</th>\n",
       "      <td>Patient0002</td>\n",
       "      <td>44</td>\n",
       "      <td>67.714305</td>\n",
       "      <td>69</td>\n",
       "      <td>0</td>\n",
       "      <td>109</td>\n",
       "      <td>74</td>\n",
       "      <td>81</td>\n",
       "      <td>14.473493</td>\n",
       "      <td>6.157792</td>\n",
       "      <td>...</td>\n",
       "      <td>1</td>\n",
       "      <td>0</td>\n",
       "      <td>0</td>\n",
       "      <td>1</td>\n",
       "      <td>0</td>\n",
       "      <td>1</td>\n",
       "      <td>1</td>\n",
       "      <td>0</td>\n",
       "      <td>1</td>\n",
       "      <td>0</td>\n",
       "    </tr>\n",
       "    <tr>\n",
       "      <th>3</th>\n",
       "      <td>Patient0003</td>\n",
       "      <td>72</td>\n",
       "      <td>70.806008</td>\n",
       "      <td>95</td>\n",
       "      <td>1</td>\n",
       "      <td>103</td>\n",
       "      <td>85</td>\n",
       "      <td>68</td>\n",
       "      <td>17.442063</td>\n",
       "      <td>6.259383</td>\n",
       "      <td>...</td>\n",
       "      <td>0</td>\n",
       "      <td>1</td>\n",
       "      <td>1</td>\n",
       "      <td>0</td>\n",
       "      <td>0</td>\n",
       "      <td>1</td>\n",
       "      <td>0</td>\n",
       "      <td>1</td>\n",
       "      <td>1</td>\n",
       "      <td>0</td>\n",
       "    </tr>\n",
       "    <tr>\n",
       "      <th>4</th>\n",
       "      <td>Patient0004</td>\n",
       "      <td>37</td>\n",
       "      <td>87.272433</td>\n",
       "      <td>105</td>\n",
       "      <td>0</td>\n",
       "      <td>165</td>\n",
       "      <td>69</td>\n",
       "      <td>99</td>\n",
       "      <td>13.545171</td>\n",
       "      <td>5.203516</td>\n",
       "      <td>...</td>\n",
       "      <td>0</td>\n",
       "      <td>1</td>\n",
       "      <td>1</td>\n",
       "      <td>0</td>\n",
       "      <td>0</td>\n",
       "      <td>1</td>\n",
       "      <td>1</td>\n",
       "      <td>0</td>\n",
       "      <td>1</td>\n",
       "      <td>0</td>\n",
       "    </tr>\n",
       "  </tbody>\n",
       "</table>\n",
       "<p>5 rows × 64 columns</p>\n",
       "</div>"
      ],
      "text/plain": [
       "    Patient_ID  Age  Tumor_Size_mm  Survival_Months  Performance_Status  \\\n",
       "0  Patient0000   68      81.678677               44                   3   \n",
       "1  Patient0001   58      78.448272              101                   4   \n",
       "2  Patient0002   44      67.714305               69                   0   \n",
       "3  Patient0003   72      70.806008               95                   1   \n",
       "4  Patient0004   37      87.272433              105                   0   \n",
       "\n",
       "   Blood_Pressure_Systolic  Blood_Pressure_Diastolic  Blood_Pressure_Pulse  \\\n",
       "0                      161                        99                    92   \n",
       "1                      101                        91                    93   \n",
       "2                      109                        74                    81   \n",
       "3                      103                        85                    68   \n",
       "4                      165                        69                    99   \n",
       "\n",
       "   Hemoglobin_Level  White_Blood_Cell_Count  ...  \\\n",
       "0         13.538000                9.800707  ...   \n",
       "1         16.800312                4.378428  ...   \n",
       "2         14.473493                6.157792  ...   \n",
       "3         17.442063                6.259383  ...   \n",
       "4         13.545171                5.203516  ...   \n",
       "\n",
       "   Comorbidity_Heart_Disease_No  Comorbidity_Heart_Disease_Yes  \\\n",
       "0                             0                              1   \n",
       "1                             1                              0   \n",
       "2                             1                              0   \n",
       "3                             0                              1   \n",
       "4                             0                              1   \n",
       "\n",
       "   Comorbidity_Chronic_Lung_Disease_No  Comorbidity_Chronic_Lung_Disease_Yes  \\\n",
       "0                                    1                                     0   \n",
       "1                                    1                                     0   \n",
       "2                                    0                                     1   \n",
       "3                                    1                                     0   \n",
       "4                                    1                                     0   \n",
       "\n",
       "   Comorbidity_Kidney_Disease_No  Comorbidity_Kidney_Disease_Yes  \\\n",
       "0                              0                               1   \n",
       "1                              0                               1   \n",
       "2                              0                               1   \n",
       "3                              0                               1   \n",
       "4                              0                               1   \n",
       "\n",
       "   Comorbidity_Autoimmune_Disease_No  Comorbidity_Autoimmune_Disease_Yes  \\\n",
       "0                                  0                                   1   \n",
       "1                                  0                                   1   \n",
       "2                                  1                                   0   \n",
       "3                                  0                                   1   \n",
       "4                                  1                                   0   \n",
       "\n",
       "   Comorbidity_Other_No  Comorbidity_Other_Yes  \n",
       "0                     0                      1  \n",
       "1                     1                      0  \n",
       "2                     1                      0  \n",
       "3                     1                      0  \n",
       "4                     1                      0  \n",
       "\n",
       "[5 rows x 64 columns]"
      ]
     },
     "execution_count": 9,
     "metadata": {},
     "output_type": "execute_result"
    }
   ],
   "source": [
    "data.head()"
   ]
  },
  {
   "cell_type": "markdown",
   "id": "f593a65c",
   "metadata": {
    "papermill": {
     "duration": 0.009384,
     "end_time": "2024-07-07T20:42:01.455085",
     "exception": false,
     "start_time": "2024-07-07T20:42:01.445701",
     "status": "completed"
    },
    "tags": []
   },
   "source": [
    "# Built Neural Network Model"
   ]
  },
  {
   "cell_type": "markdown",
   "id": "ee8fe0fa",
   "metadata": {
    "papermill": {
     "duration": 0.009652,
     "end_time": "2024-07-07T20:42:01.474903",
     "exception": false,
     "start_time": "2024-07-07T20:42:01.465251",
     "status": "completed"
    },
    "tags": []
   },
   "source": [
    "-- Split into train, valid and test datasets: 8:1:1"
   ]
  },
  {
   "cell_type": "code",
   "execution_count": 10,
   "id": "533c1619",
   "metadata": {
    "execution": {
     "iopub.execute_input": "2024-07-07T20:42:01.496443Z",
     "iopub.status.busy": "2024-07-07T20:42:01.495935Z",
     "iopub.status.idle": "2024-07-07T20:42:01.545733Z",
     "shell.execute_reply": "2024-07-07T20:42:01.544225Z"
    },
    "papermill": {
     "duration": 0.06405,
     "end_time": "2024-07-07T20:42:01.548669",
     "exception": false,
     "start_time": "2024-07-07T20:42:01.484619",
     "status": "completed"
    },
    "tags": []
   },
   "outputs": [
    {
     "name": "stdout",
     "output_type": "stream",
     "text": [
      "(18926, 63)\n",
      "(18926,)\n",
      "(2366, 63)\n",
      "(2366,)\n",
      "(2366, 63)\n",
      "(2366,)\n"
     ]
    },
    {
     "data": {
      "text/plain": [
       "(None, None)"
      ]
     },
     "execution_count": 10,
     "metadata": {},
     "output_type": "execute_result"
    }
   ],
   "source": [
    "features = data.columns.to_list()\n",
    "features.pop(0)\n",
    "train_size=0.8\n",
    "X_train, X_rem, y_train, y_rem = train_test_split(data[features],y, train_size=0.8)\n",
    "test_size = 0.5\n",
    "X_valid, X_test, y_valid, y_test = train_test_split(X_rem,y_rem, test_size=0.5)\n",
    "\n",
    "print(X_train.shape), print(y_train.shape)\n",
    "print(X_valid.shape), print(y_valid.shape)\n",
    "print(X_test.shape), print(y_test.shape)"
   ]
  },
  {
   "cell_type": "markdown",
   "id": "f1b3cbef",
   "metadata": {
    "papermill": {
     "duration": 0.011139,
     "end_time": "2024-07-07T20:42:01.570537",
     "exception": false,
     "start_time": "2024-07-07T20:42:01.559398",
     "status": "completed"
    },
    "tags": []
   },
   "source": [
    "-- Build neural network model"
   ]
  },
  {
   "cell_type": "code",
   "execution_count": 11,
   "id": "506ee85b",
   "metadata": {
    "execution": {
     "iopub.execute_input": "2024-07-07T20:42:01.594141Z",
     "iopub.status.busy": "2024-07-07T20:42:01.593678Z",
     "iopub.status.idle": "2024-07-07T20:42:01.694482Z",
     "shell.execute_reply": "2024-07-07T20:42:01.693112Z"
    },
    "papermill": {
     "duration": 0.116539,
     "end_time": "2024-07-07T20:42:01.697567",
     "exception": false,
     "start_time": "2024-07-07T20:42:01.581028",
     "status": "completed"
    },
    "tags": []
   },
   "outputs": [],
   "source": [
    "model = keras.Sequential([\n",
    "    keras.Input(shape=(63,)),\n",
    "    layers.Dense(512, activation = 'relu'),\n",
    "    layers.Dense(512, activation = 'relu'),\n",
    "    layers.Dense(512, activation = 'relu'),\n",
    "    layers.Dense(1),\n",
    "])"
   ]
  },
  {
   "cell_type": "code",
   "execution_count": 12,
   "id": "d19807ca",
   "metadata": {
    "execution": {
     "iopub.execute_input": "2024-07-07T20:42:01.720346Z",
     "iopub.status.busy": "2024-07-07T20:42:01.719938Z",
     "iopub.status.idle": "2024-07-07T20:42:01.737075Z",
     "shell.execute_reply": "2024-07-07T20:42:01.735881Z"
    },
    "papermill": {
     "duration": 0.03238,
     "end_time": "2024-07-07T20:42:01.740178",
     "exception": false,
     "start_time": "2024-07-07T20:42:01.707798",
     "status": "completed"
    },
    "tags": []
   },
   "outputs": [],
   "source": [
    "model.compile(\n",
    "    optimizer='adam',\n",
    "    loss='mae'\n",
    ")"
   ]
  },
  {
   "cell_type": "code",
   "execution_count": 13,
   "id": "56a28b83",
   "metadata": {
    "execution": {
     "iopub.execute_input": "2024-07-07T20:42:01.763056Z",
     "iopub.status.busy": "2024-07-07T20:42:01.762556Z",
     "iopub.status.idle": "2024-07-07T20:42:26.755966Z",
     "shell.execute_reply": "2024-07-07T20:42:26.754800Z"
    },
    "papermill": {
     "duration": 25.008426,
     "end_time": "2024-07-07T20:42:26.758803",
     "exception": false,
     "start_time": "2024-07-07T20:42:01.750377",
     "status": "completed"
    },
    "tags": []
   },
   "outputs": [
    {
     "name": "stdout",
     "output_type": "stream",
     "text": [
      "Epoch 1/20\n",
      "\u001b[1m74/74\u001b[0m \u001b[32m━━━━━━━━━━━━━━━━━━━━\u001b[0m\u001b[37m\u001b[0m \u001b[1m3s\u001b[0m 17ms/step - loss: 19.0264 - val_loss: 3.6179\n",
      "Epoch 2/20\n",
      "\u001b[1m74/74\u001b[0m \u001b[32m━━━━━━━━━━━━━━━━━━━━\u001b[0m\u001b[37m\u001b[0m \u001b[1m1s\u001b[0m 17ms/step - loss: 3.2526 - val_loss: 3.2027\n",
      "Epoch 3/20\n",
      "\u001b[1m74/74\u001b[0m \u001b[32m━━━━━━━━━━━━━━━━━━━━\u001b[0m\u001b[37m\u001b[0m \u001b[1m1s\u001b[0m 14ms/step - loss: 1.5577 - val_loss: 3.0828\n",
      "Epoch 4/20\n",
      "\u001b[1m74/74\u001b[0m \u001b[32m━━━━━━━━━━━━━━━━━━━━\u001b[0m\u001b[37m\u001b[0m \u001b[1m1s\u001b[0m 15ms/step - loss: 2.8125 - val_loss: 2.1644\n",
      "Epoch 5/20\n",
      "\u001b[1m74/74\u001b[0m \u001b[32m━━━━━━━━━━━━━━━━━━━━\u001b[0m\u001b[37m\u001b[0m \u001b[1m1s\u001b[0m 14ms/step - loss: 1.9192 - val_loss: 1.3702\n",
      "Epoch 6/20\n",
      "\u001b[1m74/74\u001b[0m \u001b[32m━━━━━━━━━━━━━━━━━━━━\u001b[0m\u001b[37m\u001b[0m \u001b[1m1s\u001b[0m 14ms/step - loss: 1.7507 - val_loss: 1.5443\n",
      "Epoch 7/20\n",
      "\u001b[1m74/74\u001b[0m \u001b[32m━━━━━━━━━━━━━━━━━━━━\u001b[0m\u001b[37m\u001b[0m \u001b[1m1s\u001b[0m 14ms/step - loss: 1.8266 - val_loss: 1.9398\n",
      "Epoch 8/20\n",
      "\u001b[1m74/74\u001b[0m \u001b[32m━━━━━━━━━━━━━━━━━━━━\u001b[0m\u001b[37m\u001b[0m \u001b[1m1s\u001b[0m 16ms/step - loss: 1.9904 - val_loss: 2.4824\n",
      "Epoch 9/20\n",
      "\u001b[1m74/74\u001b[0m \u001b[32m━━━━━━━━━━━━━━━━━━━━\u001b[0m\u001b[37m\u001b[0m \u001b[1m1s\u001b[0m 14ms/step - loss: 1.9999 - val_loss: 1.7847\n",
      "Epoch 10/20\n",
      "\u001b[1m74/74\u001b[0m \u001b[32m━━━━━━━━━━━━━━━━━━━━\u001b[0m\u001b[37m\u001b[0m \u001b[1m1s\u001b[0m 16ms/step - loss: 1.8219 - val_loss: 1.9674\n",
      "Epoch 11/20\n",
      "\u001b[1m74/74\u001b[0m \u001b[32m━━━━━━━━━━━━━━━━━━━━\u001b[0m\u001b[37m\u001b[0m \u001b[1m1s\u001b[0m 18ms/step - loss: 1.7472 - val_loss: 0.5883\n",
      "Epoch 12/20\n",
      "\u001b[1m74/74\u001b[0m \u001b[32m━━━━━━━━━━━━━━━━━━━━\u001b[0m\u001b[37m\u001b[0m \u001b[1m1s\u001b[0m 16ms/step - loss: 1.4552 - val_loss: 0.4347\n",
      "Epoch 13/20\n",
      "\u001b[1m74/74\u001b[0m \u001b[32m━━━━━━━━━━━━━━━━━━━━\u001b[0m\u001b[37m\u001b[0m \u001b[1m1s\u001b[0m 15ms/step - loss: 1.3799 - val_loss: 2.3578\n",
      "Epoch 14/20\n",
      "\u001b[1m74/74\u001b[0m \u001b[32m━━━━━━━━━━━━━━━━━━━━\u001b[0m\u001b[37m\u001b[0m \u001b[1m1s\u001b[0m 14ms/step - loss: 1.9414 - val_loss: 2.8530\n",
      "Epoch 15/20\n",
      "\u001b[1m74/74\u001b[0m \u001b[32m━━━━━━━━━━━━━━━━━━━━\u001b[0m\u001b[37m\u001b[0m \u001b[1m1s\u001b[0m 16ms/step - loss: 1.9218 - val_loss: 0.5447\n",
      "Epoch 16/20\n",
      "\u001b[1m74/74\u001b[0m \u001b[32m━━━━━━━━━━━━━━━━━━━━\u001b[0m\u001b[37m\u001b[0m \u001b[1m1s\u001b[0m 14ms/step - loss: 1.2833 - val_loss: 2.3106\n",
      "Epoch 17/20\n",
      "\u001b[1m74/74\u001b[0m \u001b[32m━━━━━━━━━━━━━━━━━━━━\u001b[0m\u001b[37m\u001b[0m \u001b[1m1s\u001b[0m 15ms/step - loss: 1.5584 - val_loss: 1.1238\n",
      "Epoch 18/20\n",
      "\u001b[1m74/74\u001b[0m \u001b[32m━━━━━━━━━━━━━━━━━━━━\u001b[0m\u001b[37m\u001b[0m \u001b[1m1s\u001b[0m 14ms/step - loss: 1.4466 - val_loss: 0.4953\n",
      "Epoch 19/20\n",
      "\u001b[1m74/74\u001b[0m \u001b[32m━━━━━━━━━━━━━━━━━━━━\u001b[0m\u001b[37m\u001b[0m \u001b[1m1s\u001b[0m 15ms/step - loss: 1.3548 - val_loss: 1.5743\n",
      "Epoch 20/20\n",
      "\u001b[1m74/74\u001b[0m \u001b[32m━━━━━━━━━━━━━━━━━━━━\u001b[0m\u001b[37m\u001b[0m \u001b[1m1s\u001b[0m 15ms/step - loss: 1.3266 - val_loss: 0.5541\n"
     ]
    }
   ],
   "source": [
    "history = model.fit(\n",
    "    X_train, y_train,\n",
    "    validation_data=(X_valid, y_valid),\n",
    "    batch_size=256,\n",
    "    epochs=20,\n",
    ")"
   ]
  },
  {
   "cell_type": "code",
   "execution_count": 14,
   "id": "465f7655",
   "metadata": {
    "execution": {
     "iopub.execute_input": "2024-07-07T20:42:26.861080Z",
     "iopub.status.busy": "2024-07-07T20:42:26.860241Z",
     "iopub.status.idle": "2024-07-07T20:42:27.189332Z",
     "shell.execute_reply": "2024-07-07T20:42:27.188207Z"
    },
    "papermill": {
     "duration": 0.382935,
     "end_time": "2024-07-07T20:42:27.192022",
     "exception": false,
     "start_time": "2024-07-07T20:42:26.809087",
     "status": "completed"
    },
    "tags": []
   },
   "outputs": [
    {
     "data": {
      "image/png": "[encoded data removed]",
      "text/plain": [
       "<Figure size 640x480 with 1 Axes>"
      ]
     },
     "metadata": {},
     "output_type": "display_data"
    }
   ],
   "source": [
    "history_data = pd.DataFrame(history.history)\n",
    "history_data['loss'].plot();"
   ]
  },
  {
   "cell_type": "code",
   "execution_count": 15,
   "id": "7713f1ee",
   "metadata": {
    "execution": {
     "iopub.execute_input": "2024-07-07T20:42:27.294394Z",
     "iopub.status.busy": "2024-07-07T20:42:27.293368Z",
     "iopub.status.idle": "2024-07-07T20:42:27.730940Z",
     "shell.execute_reply": "2024-07-07T20:42:27.729316Z"
    },
    "papermill": {
     "duration": 0.491738,
     "end_time": "2024-07-07T20:42:27.733936",
     "exception": false,
     "start_time": "2024-07-07T20:42:27.242198",
     "status": "completed"
    },
    "tags": []
   },
   "outputs": [
    {
     "name": "stdout",
     "output_type": "stream",
     "text": [
      "\u001b[1m74/74\u001b[0m \u001b[32m━━━━━━━━━━━━━━━━━━━━\u001b[0m\u001b[37m\u001b[0m \u001b[1m0s\u001b[0m 4ms/step\n",
      "[114, 4, 107, 50, 54]\n",
      "[[114.]\n",
      " [  3.]\n",
      " [107.]\n",
      " [ 49.]\n",
      " [ 54.]]\n"
     ]
    }
   ],
   "source": [
    "y_predict = np.around(model.predict(X_test))\n",
    "print(y_test.to_list()[:5])\n",
    "print(y_predict[:5])"
   ]
  },
  {
   "cell_type": "code",
   "execution_count": 16,
   "id": "34f40309",
   "metadata": {
    "execution": {
     "iopub.execute_input": "2024-07-07T20:42:27.843573Z",
     "iopub.status.busy": "2024-07-07T20:42:27.842860Z",
     "iopub.status.idle": "2024-07-07T20:42:27.852454Z",
     "shell.execute_reply": "2024-07-07T20:42:27.850970Z"
    },
    "papermill": {
     "duration": 0.071309,
     "end_time": "2024-07-07T20:42:27.856146",
     "exception": false,
     "start_time": "2024-07-07T20:42:27.784837",
     "status": "completed"
    },
    "tags": []
   },
   "outputs": [
    {
     "name": "stdout",
     "output_type": "stream",
     "text": [
      "0.496\n"
     ]
    }
   ],
   "source": [
    "mae = round(mean_absolute_error(y_test, y_predict),3)\n",
    "print(mae)"
   ]
  },
  {
   "cell_type": "code",
   "execution_count": null,
   "id": "ab9fb31e",
   "metadata": {
    "papermill": {
     "duration": 0.054998,
     "end_time": "2024-07-07T20:42:27.982224",
     "exception": false,
     "start_time": "2024-07-07T20:42:27.927226",
     "status": "completed"
    },
    "tags": []
   },
   "outputs": [],
   "source": []
  }
 ],
 "metadata": {
  "kaggle": {
   "accelerator": "none",
   "dataSources": [
    {
     "datasetId": 5109540,
     "sourceId": 8550694,
     "sourceType": "datasetVersion"
    }
   ],
   "dockerImageVersionId": 30732,
   "isGpuEnabled": false,
   "isInternetEnabled": true,
   "language": "python",
   "sourceType": "notebook"
  },
  "kernelspec": {
   "display_name": "Python 3",
   "language": "python",
   "name": "python3"
  },
  "language_info": {
   "codemirror_mode": {
    "name": "ipython",
    "version": 3
   },
   "file_extension": ".py",
   "mimetype": "text/x-python",
   "name": "python",
   "nbconvert_exporter": "python",
   "pygments_lexer": "ipython3",
   "version": "3.10.13"
  },
  "papermill": {
   "default_parameters": {},
   "duration": 51.186632,
   "end_time": "2024-07-07T20:42:30.589100",
   "environment_variables": {},
   "exception": null,
   "input_path": "__notebook__.ipynb",
   "output_path": "__notebook__.ipynb",
   "parameters": {},
   "start_time": "2024-07-07T20:41:39.402468",
   "version": "2.5.0"
  }
 },
 "nbformat": 4,
 "nbformat_minor": 5
}
