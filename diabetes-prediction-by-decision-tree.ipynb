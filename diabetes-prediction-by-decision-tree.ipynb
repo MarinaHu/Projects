{
 "cells": [
  {
   "cell_type": "code",
   "execution_count": 1,
   "id": "b37079da",
   "metadata": {
    "_cell_guid": "b1076dfc-b9ad-4769-8c92-a6c4dae69d19",
    "_uuid": "8f2839f25d086af736a60e9eeb907d3b93b6e0e5",
    "execution": {
     "iopub.execute_input": "2024-06-06T19:36:40.174077Z",
     "iopub.status.busy": "2024-06-06T19:36:40.172977Z",
     "iopub.status.idle": "2024-06-06T19:36:42.686804Z",
     "shell.execute_reply": "2024-06-06T19:36:42.685302Z"
    },
    "papermill": {
     "duration": 2.52437,
     "end_time": "2024-06-06T19:36:42.689384",
     "exception": false,
     "start_time": "2024-06-06T19:36:40.165014",
     "status": "completed"
    },
    "tags": []
   },
   "outputs": [
    {
     "name": "stdout",
     "output_type": "stream",
     "text": [
      "/kaggle/input/diabetes-data-set/diabetes.csv\n"
     ]
    }
   ],
   "source": [
    "# This Python 3 environment comes with many helpful analytics libraries installed\n",
    "# It is defined by the kaggle/python Docker image: https://github.com/kaggle/docker-python\n",
    "# For example, here's several helpful packages to load\n",
    "\n",
    "import numpy as np # linear algebra\n",
    "import pandas as pd # data processing, CSV file I/O (e.g. pd.read_csv)\n",
    "import matplotlib.pyplot as plt\n",
    "from sklearn.model_selection import train_test_split\n",
    "from sklearn import tree\n",
    "from sklearn.tree import DecisionTreeClassifier\n",
    "from sklearn.metrics import accuracy_score\n",
    "from sklearn.metrics import precision_score\n",
    "from sklearn.metrics import recall_score\n",
    "from sklearn.metrics import f1_score\n",
    "\n",
    "# Input data files are available in the read-only \"../input/\" directory\n",
    "# For example, running this (by clicking run or pressing Shift+Enter) will list all files under the input directory\n",
    "\n",
    "import os\n",
    "for dirname, _, filenames in os.walk('/kaggle/input'):\n",
    "    for filename in filenames:\n",
    "        print(os.path.join(dirname, filename))\n",
    "\n",
    "# You can write up to 20GB to the current directory (/kaggle/working/) that gets preserved as output when you create a version using \"Save & Run All\" \n",
    "# You can also write temporary files to /kaggle/temp/, but they won't be saved outside of the current session"
   ]
  },
  {
   "cell_type": "markdown",
   "id": "bbeeec43",
   "metadata": {
    "papermill": {
     "duration": 0.004977,
     "end_time": "2024-06-06T19:36:42.699719",
     "exception": false,
     "start_time": "2024-06-06T19:36:42.694742",
     "status": "completed"
    },
    "tags": []
   },
   "source": [
    "# Using Machine Learning Methods to Predict Diabetes"
   ]
  },
  {
   "cell_type": "markdown",
   "id": "feab5841",
   "metadata": {
    "papermill": {
     "duration": 0.004798,
     "end_time": "2024-06-06T19:36:42.709775",
     "exception": false,
     "start_time": "2024-06-06T19:36:42.704977",
     "status": "completed"
    },
    "tags": []
   },
   "source": [
    "## Import data"
   ]
  },
  {
   "cell_type": "code",
   "execution_count": 2,
   "id": "f3cec431",
   "metadata": {
    "execution": {
     "iopub.execute_input": "2024-06-06T19:36:42.722046Z",
     "iopub.status.busy": "2024-06-06T19:36:42.721532Z",
     "iopub.status.idle": "2024-06-06T19:36:42.762612Z",
     "shell.execute_reply": "2024-06-06T19:36:42.761381Z"
    },
    "papermill": {
     "duration": 0.050262,
     "end_time": "2024-06-06T19:36:42.765168",
     "exception": false,
     "start_time": "2024-06-06T19:36:42.714906",
     "status": "completed"
    },
    "tags": []
   },
   "outputs": [
    {
     "data": {
      "text/html": [
       "<div>\n",
       "<style scoped>\n",
       "    .dataframe tbody tr th:only-of-type {\n",
       "        vertical-align: middle;\n",
       "    }\n",
       "\n",
       "    .dataframe tbody tr th {\n",
       "        vertical-align: top;\n",
       "    }\n",
       "\n",
       "    .dataframe thead th {\n",
       "        text-align: right;\n",
       "    }\n",
       "</style>\n",
       "<table border=\"1\" class=\"dataframe\">\n",
       "  <thead>\n",
       "    <tr style=\"text-align: right;\">\n",
       "      <th></th>\n",
       "      <th>Pregnancies</th>\n",
       "      <th>Glucose</th>\n",
       "      <th>BloodPressure</th>\n",
       "      <th>SkinThickness</th>\n",
       "      <th>Insulin</th>\n",
       "      <th>BMI</th>\n",
       "      <th>DiabetesPedigreeFunction</th>\n",
       "      <th>Age</th>\n",
       "      <th>Outcome</th>\n",
       "    </tr>\n",
       "  </thead>\n",
       "  <tbody>\n",
       "    <tr>\n",
       "      <th>0</th>\n",
       "      <td>6</td>\n",
       "      <td>148</td>\n",
       "      <td>72</td>\n",
       "      <td>35</td>\n",
       "      <td>0</td>\n",
       "      <td>33.6</td>\n",
       "      <td>0.627</td>\n",
       "      <td>50</td>\n",
       "      <td>1</td>\n",
       "    </tr>\n",
       "    <tr>\n",
       "      <th>1</th>\n",
       "      <td>1</td>\n",
       "      <td>85</td>\n",
       "      <td>66</td>\n",
       "      <td>29</td>\n",
       "      <td>0</td>\n",
       "      <td>26.6</td>\n",
       "      <td>0.351</td>\n",
       "      <td>31</td>\n",
       "      <td>0</td>\n",
       "    </tr>\n",
       "    <tr>\n",
       "      <th>2</th>\n",
       "      <td>8</td>\n",
       "      <td>183</td>\n",
       "      <td>64</td>\n",
       "      <td>0</td>\n",
       "      <td>0</td>\n",
       "      <td>23.3</td>\n",
       "      <td>0.672</td>\n",
       "      <td>32</td>\n",
       "      <td>1</td>\n",
       "    </tr>\n",
       "    <tr>\n",
       "      <th>3</th>\n",
       "      <td>1</td>\n",
       "      <td>89</td>\n",
       "      <td>66</td>\n",
       "      <td>23</td>\n",
       "      <td>94</td>\n",
       "      <td>28.1</td>\n",
       "      <td>0.167</td>\n",
       "      <td>21</td>\n",
       "      <td>0</td>\n",
       "    </tr>\n",
       "    <tr>\n",
       "      <th>4</th>\n",
       "      <td>0</td>\n",
       "      <td>137</td>\n",
       "      <td>40</td>\n",
       "      <td>35</td>\n",
       "      <td>168</td>\n",
       "      <td>43.1</td>\n",
       "      <td>2.288</td>\n",
       "      <td>33</td>\n",
       "      <td>1</td>\n",
       "    </tr>\n",
       "    <tr>\n",
       "      <th>5</th>\n",
       "      <td>5</td>\n",
       "      <td>116</td>\n",
       "      <td>74</td>\n",
       "      <td>0</td>\n",
       "      <td>0</td>\n",
       "      <td>25.6</td>\n",
       "      <td>0.201</td>\n",
       "      <td>30</td>\n",
       "      <td>0</td>\n",
       "    </tr>\n",
       "    <tr>\n",
       "      <th>6</th>\n",
       "      <td>3</td>\n",
       "      <td>78</td>\n",
       "      <td>50</td>\n",
       "      <td>32</td>\n",
       "      <td>88</td>\n",
       "      <td>31.0</td>\n",
       "      <td>0.248</td>\n",
       "      <td>26</td>\n",
       "      <td>1</td>\n",
       "    </tr>\n",
       "    <tr>\n",
       "      <th>7</th>\n",
       "      <td>10</td>\n",
       "      <td>115</td>\n",
       "      <td>0</td>\n",
       "      <td>0</td>\n",
       "      <td>0</td>\n",
       "      <td>35.3</td>\n",
       "      <td>0.134</td>\n",
       "      <td>29</td>\n",
       "      <td>0</td>\n",
       "    </tr>\n",
       "    <tr>\n",
       "      <th>8</th>\n",
       "      <td>2</td>\n",
       "      <td>197</td>\n",
       "      <td>70</td>\n",
       "      <td>45</td>\n",
       "      <td>543</td>\n",
       "      <td>30.5</td>\n",
       "      <td>0.158</td>\n",
       "      <td>53</td>\n",
       "      <td>1</td>\n",
       "    </tr>\n",
       "    <tr>\n",
       "      <th>9</th>\n",
       "      <td>8</td>\n",
       "      <td>125</td>\n",
       "      <td>96</td>\n",
       "      <td>0</td>\n",
       "      <td>0</td>\n",
       "      <td>0.0</td>\n",
       "      <td>0.232</td>\n",
       "      <td>54</td>\n",
       "      <td>1</td>\n",
       "    </tr>\n",
       "  </tbody>\n",
       "</table>\n",
       "</div>"
      ],
      "text/plain": [
       "   Pregnancies  Glucose  BloodPressure  SkinThickness  Insulin   BMI  \\\n",
       "0            6      148             72             35        0  33.6   \n",
       "1            1       85             66             29        0  26.6   \n",
       "2            8      183             64              0        0  23.3   \n",
       "3            1       89             66             23       94  28.1   \n",
       "4            0      137             40             35      168  43.1   \n",
       "5            5      116             74              0        0  25.6   \n",
       "6            3       78             50             32       88  31.0   \n",
       "7           10      115              0              0        0  35.3   \n",
       "8            2      197             70             45      543  30.5   \n",
       "9            8      125             96              0        0   0.0   \n",
       "\n",
       "   DiabetesPedigreeFunction  Age  Outcome  \n",
       "0                     0.627   50        1  \n",
       "1                     0.351   31        0  \n",
       "2                     0.672   32        1  \n",
       "3                     0.167   21        0  \n",
       "4                     2.288   33        1  \n",
       "5                     0.201   30        0  \n",
       "6                     0.248   26        1  \n",
       "7                     0.134   29        0  \n",
       "8                     0.158   53        1  \n",
       "9                     0.232   54        1  "
      ]
     },
     "execution_count": 2,
     "metadata": {},
     "output_type": "execute_result"
    }
   ],
   "source": [
    "data = pd.read_csv('/kaggle/input/diabetes-data-set/diabetes.csv')\n",
    "data.head(n=10)"
   ]
  },
  {
   "cell_type": "code",
   "execution_count": 3,
   "id": "ada9b591",
   "metadata": {
    "execution": {
     "iopub.execute_input": "2024-06-06T19:36:42.778005Z",
     "iopub.status.busy": "2024-06-06T19:36:42.777650Z",
     "iopub.status.idle": "2024-06-06T19:36:42.784343Z",
     "shell.execute_reply": "2024-06-06T19:36:42.783247Z"
    },
    "papermill": {
     "duration": 0.015847,
     "end_time": "2024-06-06T19:36:42.786694",
     "exception": false,
     "start_time": "2024-06-06T19:36:42.770847",
     "status": "completed"
    },
    "tags": []
   },
   "outputs": [
    {
     "data": {
      "text/plain": [
       "pandas.core.frame.DataFrame"
      ]
     },
     "execution_count": 3,
     "metadata": {},
     "output_type": "execute_result"
    }
   ],
   "source": [
    "type(data)"
   ]
  },
  {
   "cell_type": "code",
   "execution_count": 4,
   "id": "377604a4",
   "metadata": {
    "execution": {
     "iopub.execute_input": "2024-06-06T19:36:42.799946Z",
     "iopub.status.busy": "2024-06-06T19:36:42.799558Z",
     "iopub.status.idle": "2024-06-06T19:36:42.806246Z",
     "shell.execute_reply": "2024-06-06T19:36:42.805175Z"
    },
    "papermill": {
     "duration": 0.01611,
     "end_time": "2024-06-06T19:36:42.808634",
     "exception": false,
     "start_time": "2024-06-06T19:36:42.792524",
     "status": "completed"
    },
    "tags": []
   },
   "outputs": [
    {
     "data": {
      "text/plain": [
       "(768, 9)"
      ]
     },
     "execution_count": 4,
     "metadata": {},
     "output_type": "execute_result"
    }
   ],
   "source": [
    "np.shape(data)"
   ]
  },
  {
   "cell_type": "markdown",
   "id": "935aa3f4",
   "metadata": {
    "papermill": {
     "duration": 0.005657,
     "end_time": "2024-06-06T19:36:42.820565",
     "exception": false,
     "start_time": "2024-06-06T19:36:42.814908",
     "status": "completed"
    },
    "tags": []
   },
   "source": [
    "## Clean data \n",
    "--Get rid of rows that contain zeros in the columns of Glucose,BloodPressure, SkinThickness and BMI"
   ]
  },
  {
   "cell_type": "code",
   "execution_count": 5,
   "id": "c56a5538",
   "metadata": {
    "execution": {
     "iopub.execute_input": "2024-06-06T19:36:42.834705Z",
     "iopub.status.busy": "2024-06-06T19:36:42.833589Z",
     "iopub.status.idle": "2024-06-06T19:36:42.838308Z",
     "shell.execute_reply": "2024-06-06T19:36:42.837442Z"
    },
    "papermill": {
     "duration": 0.01414,
     "end_time": "2024-06-06T19:36:42.840654",
     "exception": false,
     "start_time": "2024-06-06T19:36:42.826514",
     "status": "completed"
    },
    "tags": []
   },
   "outputs": [],
   "source": [
    "#b= np.sort(data['Age'])\n",
    "#print(b)"
   ]
  },
  {
   "cell_type": "code",
   "execution_count": 6,
   "id": "2751b01d",
   "metadata": {
    "execution": {
     "iopub.execute_input": "2024-06-06T19:36:42.855776Z",
     "iopub.status.busy": "2024-06-06T19:36:42.855363Z",
     "iopub.status.idle": "2024-06-06T19:36:42.878041Z",
     "shell.execute_reply": "2024-06-06T19:36:42.876776Z"
    },
    "papermill": {
     "duration": 0.033538,
     "end_time": "2024-06-06T19:36:42.880595",
     "exception": false,
     "start_time": "2024-06-06T19:36:42.847057",
     "status": "completed"
    },
    "tags": []
   },
   "outputs": [
    {
     "data": {
      "text/html": [
       "<div>\n",
       "<style scoped>\n",
       "    .dataframe tbody tr th:only-of-type {\n",
       "        vertical-align: middle;\n",
       "    }\n",
       "\n",
       "    .dataframe tbody tr th {\n",
       "        vertical-align: top;\n",
       "    }\n",
       "\n",
       "    .dataframe thead th {\n",
       "        text-align: right;\n",
       "    }\n",
       "</style>\n",
       "<table border=\"1\" class=\"dataframe\">\n",
       "  <thead>\n",
       "    <tr style=\"text-align: right;\">\n",
       "      <th></th>\n",
       "      <th>Pregnancies</th>\n",
       "      <th>Glucose</th>\n",
       "      <th>BloodPressure</th>\n",
       "      <th>SkinThickness</th>\n",
       "      <th>Insulin</th>\n",
       "      <th>BMI</th>\n",
       "      <th>DiabetesPedigreeFunction</th>\n",
       "      <th>Age</th>\n",
       "      <th>Outcome</th>\n",
       "    </tr>\n",
       "  </thead>\n",
       "  <tbody>\n",
       "    <tr>\n",
       "      <th>0</th>\n",
       "      <td>6</td>\n",
       "      <td>148</td>\n",
       "      <td>72</td>\n",
       "      <td>35</td>\n",
       "      <td>0</td>\n",
       "      <td>33.6</td>\n",
       "      <td>0.627</td>\n",
       "      <td>50</td>\n",
       "      <td>1</td>\n",
       "    </tr>\n",
       "    <tr>\n",
       "      <th>1</th>\n",
       "      <td>1</td>\n",
       "      <td>85</td>\n",
       "      <td>66</td>\n",
       "      <td>29</td>\n",
       "      <td>0</td>\n",
       "      <td>26.6</td>\n",
       "      <td>0.351</td>\n",
       "      <td>31</td>\n",
       "      <td>0</td>\n",
       "    </tr>\n",
       "    <tr>\n",
       "      <th>3</th>\n",
       "      <td>1</td>\n",
       "      <td>89</td>\n",
       "      <td>66</td>\n",
       "      <td>23</td>\n",
       "      <td>94</td>\n",
       "      <td>28.1</td>\n",
       "      <td>0.167</td>\n",
       "      <td>21</td>\n",
       "      <td>0</td>\n",
       "    </tr>\n",
       "    <tr>\n",
       "      <th>4</th>\n",
       "      <td>0</td>\n",
       "      <td>137</td>\n",
       "      <td>40</td>\n",
       "      <td>35</td>\n",
       "      <td>168</td>\n",
       "      <td>43.1</td>\n",
       "      <td>2.288</td>\n",
       "      <td>33</td>\n",
       "      <td>1</td>\n",
       "    </tr>\n",
       "    <tr>\n",
       "      <th>6</th>\n",
       "      <td>3</td>\n",
       "      <td>78</td>\n",
       "      <td>50</td>\n",
       "      <td>32</td>\n",
       "      <td>88</td>\n",
       "      <td>31.0</td>\n",
       "      <td>0.248</td>\n",
       "      <td>26</td>\n",
       "      <td>1</td>\n",
       "    </tr>\n",
       "    <tr>\n",
       "      <th>8</th>\n",
       "      <td>2</td>\n",
       "      <td>197</td>\n",
       "      <td>70</td>\n",
       "      <td>45</td>\n",
       "      <td>543</td>\n",
       "      <td>30.5</td>\n",
       "      <td>0.158</td>\n",
       "      <td>53</td>\n",
       "      <td>1</td>\n",
       "    </tr>\n",
       "    <tr>\n",
       "      <th>13</th>\n",
       "      <td>1</td>\n",
       "      <td>189</td>\n",
       "      <td>60</td>\n",
       "      <td>23</td>\n",
       "      <td>846</td>\n",
       "      <td>30.1</td>\n",
       "      <td>0.398</td>\n",
       "      <td>59</td>\n",
       "      <td>1</td>\n",
       "    </tr>\n",
       "    <tr>\n",
       "      <th>14</th>\n",
       "      <td>5</td>\n",
       "      <td>166</td>\n",
       "      <td>72</td>\n",
       "      <td>19</td>\n",
       "      <td>175</td>\n",
       "      <td>25.8</td>\n",
       "      <td>0.587</td>\n",
       "      <td>51</td>\n",
       "      <td>1</td>\n",
       "    </tr>\n",
       "    <tr>\n",
       "      <th>16</th>\n",
       "      <td>0</td>\n",
       "      <td>118</td>\n",
       "      <td>84</td>\n",
       "      <td>47</td>\n",
       "      <td>230</td>\n",
       "      <td>45.8</td>\n",
       "      <td>0.551</td>\n",
       "      <td>31</td>\n",
       "      <td>1</td>\n",
       "    </tr>\n",
       "    <tr>\n",
       "      <th>18</th>\n",
       "      <td>1</td>\n",
       "      <td>103</td>\n",
       "      <td>30</td>\n",
       "      <td>38</td>\n",
       "      <td>83</td>\n",
       "      <td>43.3</td>\n",
       "      <td>0.183</td>\n",
       "      <td>33</td>\n",
       "      <td>0</td>\n",
       "    </tr>\n",
       "  </tbody>\n",
       "</table>\n",
       "</div>"
      ],
      "text/plain": [
       "    Pregnancies  Glucose  BloodPressure  SkinThickness  Insulin   BMI  \\\n",
       "0             6      148             72             35        0  33.6   \n",
       "1             1       85             66             29        0  26.6   \n",
       "3             1       89             66             23       94  28.1   \n",
       "4             0      137             40             35      168  43.1   \n",
       "6             3       78             50             32       88  31.0   \n",
       "8             2      197             70             45      543  30.5   \n",
       "13            1      189             60             23      846  30.1   \n",
       "14            5      166             72             19      175  25.8   \n",
       "16            0      118             84             47      230  45.8   \n",
       "18            1      103             30             38       83  43.3   \n",
       "\n",
       "    DiabetesPedigreeFunction  Age  Outcome  \n",
       "0                      0.627   50        1  \n",
       "1                      0.351   31        0  \n",
       "3                      0.167   21        0  \n",
       "4                      2.288   33        1  \n",
       "6                      0.248   26        1  \n",
       "8                      0.158   53        1  \n",
       "13                     0.398   59        1  \n",
       "14                     0.587   51        1  \n",
       "16                     0.551   31        1  \n",
       "18                     0.183   33        0  "
      ]
     },
     "execution_count": 6,
     "metadata": {},
     "output_type": "execute_result"
    }
   ],
   "source": [
    "a = data[(data['Glucose'] != 0) & (data['BloodPressure'] != 0) \n",
    "         & (data['SkinThickness'] != 0) & (data['BMI'] != 0)]\n",
    "a.head(n=10)"
   ]
  },
  {
   "cell_type": "code",
   "execution_count": 7,
   "id": "ec4da0b1",
   "metadata": {
    "execution": {
     "iopub.execute_input": "2024-06-06T19:36:42.895850Z",
     "iopub.status.busy": "2024-06-06T19:36:42.894745Z",
     "iopub.status.idle": "2024-06-06T19:36:42.901975Z",
     "shell.execute_reply": "2024-06-06T19:36:42.900769Z"
    },
    "papermill": {
     "duration": 0.017332,
     "end_time": "2024-06-06T19:36:42.904369",
     "exception": false,
     "start_time": "2024-06-06T19:36:42.887037",
     "status": "completed"
    },
    "tags": []
   },
   "outputs": [
    {
     "data": {
      "text/plain": [
       "(532, 9)"
      ]
     },
     "execution_count": 7,
     "metadata": {},
     "output_type": "execute_result"
    }
   ],
   "source": [
    "np.shape(a)"
   ]
  },
  {
   "cell_type": "code",
   "execution_count": 8,
   "id": "9a99f067",
   "metadata": {
    "execution": {
     "iopub.execute_input": "2024-06-06T19:36:42.918128Z",
     "iopub.status.busy": "2024-06-06T19:36:42.917742Z",
     "iopub.status.idle": "2024-06-06T19:36:42.928046Z",
     "shell.execute_reply": "2024-06-06T19:36:42.927076Z"
    },
    "papermill": {
     "duration": 0.019688,
     "end_time": "2024-06-06T19:36:42.930187",
     "exception": false,
     "start_time": "2024-06-06T19:36:42.910499",
     "status": "completed"
    },
    "tags": []
   },
   "outputs": [
    {
     "name": "stdout",
     "output_type": "stream",
     "text": [
      "     Pregnancies  Glucose  BloodPressure  SkinThickness  Insulin   BMI  \\\n",
      "0              6      148             72             35        0  33.6   \n",
      "1              1       85             66             29        0  26.6   \n",
      "2              1       89             66             23       94  28.1   \n",
      "3              0      137             40             35      168  43.1   \n",
      "4              3       78             50             32       88  31.0   \n",
      "..           ...      ...            ...            ...      ...   ...   \n",
      "527            9      170             74             31        0  44.0   \n",
      "528           10      101             76             48      180  32.9   \n",
      "529            2      122             70             27        0  36.8   \n",
      "530            5      121             72             23      112  26.2   \n",
      "531            1       93             70             31        0  30.4   \n",
      "\n",
      "     DiabetesPedigreeFunction  Age  Outcome  \n",
      "0                       0.627   50        1  \n",
      "1                       0.351   31        0  \n",
      "2                       0.167   21        0  \n",
      "3                       2.288   33        1  \n",
      "4                       0.248   26        1  \n",
      "..                        ...  ...      ...  \n",
      "527                     0.403   43        1  \n",
      "528                     0.171   63        0  \n",
      "529                     0.340   27        0  \n",
      "530                     0.245   30        0  \n",
      "531                     0.315   23        0  \n",
      "\n",
      "[532 rows x 9 columns]\n"
     ]
    }
   ],
   "source": [
    "a.reset_index(inplace=True,drop=True) # reset and update the row index for dataframe a\n",
    "print(a)"
   ]
  },
  {
   "cell_type": "markdown",
   "id": "97b4e1b3",
   "metadata": {
    "papermill": {
     "duration": 0.00594,
     "end_time": "2024-06-06T19:36:42.942487",
     "exception": false,
     "start_time": "2024-06-06T19:36:42.936547",
     "status": "completed"
    },
    "tags": []
   },
   "source": [
    "## Plot data \n",
    "--find the correlation between features to outcome"
   ]
  },
  {
   "cell_type": "code",
   "execution_count": 9,
   "id": "e08cdc98",
   "metadata": {
    "execution": {
     "iopub.execute_input": "2024-06-06T19:36:42.956904Z",
     "iopub.status.busy": "2024-06-06T19:36:42.956491Z",
     "iopub.status.idle": "2024-06-06T19:36:42.962804Z",
     "shell.execute_reply": "2024-06-06T19:36:42.961488Z"
    },
    "papermill": {
     "duration": 0.016542,
     "end_time": "2024-06-06T19:36:42.965353",
     "exception": false,
     "start_time": "2024-06-06T19:36:42.948811",
     "status": "completed"
    },
    "tags": []
   },
   "outputs": [
    {
     "name": "stdout",
     "output_type": "stream",
     "text": [
      "['Pregnancies', 'Glucose', 'BloodPressure', 'SkinThickness', 'Insulin', 'BMI', 'DiabetesPedigreeFunction', 'Age'] (8,)\n"
     ]
    }
   ],
   "source": [
    "features = list(a.columns)\n",
    "features.pop()\n",
    "print(features,np.shape(features))"
   ]
  },
  {
   "cell_type": "code",
   "execution_count": 10,
   "id": "9d685a2f",
   "metadata": {
    "execution": {
     "iopub.execute_input": "2024-06-06T19:36:42.980032Z",
     "iopub.status.busy": "2024-06-06T19:36:42.979201Z",
     "iopub.status.idle": "2024-06-06T19:36:44.480518Z",
     "shell.execute_reply": "2024-06-06T19:36:44.479253Z"
    },
    "papermill": {
     "duration": 1.512274,
     "end_time": "2024-06-06T19:36:44.483896",
     "exception": false,
     "start_time": "2024-06-06T19:36:42.971622",
     "status": "completed"
    },
    "tags": []
   },
   "outputs": [
    {
     "data": {
      "image/png": "[encoded data removed]",
      "text/plain": [
       "<Figure size 640x480 with 8 Axes>"
      ]
     },
     "metadata": {},
     "output_type": "display_data"
    }
   ],
   "source": [
    "fig, axs = plt.subplots(8,1)\n",
    "fig.tight_layout()\n",
    "y = a['Outcome']\n",
    "\n",
    "for i in range(8):\n",
    "    x = a[features[i]]\n",
    "    axs[i].scatter(x,y)\n",
    "    \n",
    "# The plots show no obvious correlation between single feature to the outcome. \n",
    "# Now let's move into ML part"
   ]
  },
  {
   "cell_type": "markdown",
   "id": "e4943e64",
   "metadata": {
    "papermill": {
     "duration": 0.00664,
     "end_time": "2024-06-06T19:36:44.497737",
     "exception": false,
     "start_time": "2024-06-06T19:36:44.491097",
     "status": "completed"
    },
    "tags": []
   },
   "source": [
    "## ML Model\n",
    "--Decision trees"
   ]
  },
  {
   "cell_type": "code",
   "execution_count": 11,
   "id": "478a1650",
   "metadata": {
    "execution": {
     "iopub.execute_input": "2024-06-06T19:36:44.513916Z",
     "iopub.status.busy": "2024-06-06T19:36:44.513489Z",
     "iopub.status.idle": "2024-06-06T19:36:44.521975Z",
     "shell.execute_reply": "2024-06-06T19:36:44.520873Z"
    },
    "papermill": {
     "duration": 0.019797,
     "end_time": "2024-06-06T19:36:44.524458",
     "exception": false,
     "start_time": "2024-06-06T19:36:44.504661",
     "status": "completed"
    },
    "tags": []
   },
   "outputs": [],
   "source": [
    "training_data, testing_data = train_test_split(a,test_size=0.2,random_state=25)"
   ]
  },
  {
   "cell_type": "code",
   "execution_count": 12,
   "id": "dfafa147",
   "metadata": {
    "execution": {
     "iopub.execute_input": "2024-06-06T19:36:44.540872Z",
     "iopub.status.busy": "2024-06-06T19:36:44.540137Z",
     "iopub.status.idle": "2024-06-06T19:36:44.546236Z",
     "shell.execute_reply": "2024-06-06T19:36:44.545087Z"
    },
    "papermill": {
     "duration": 0.016781,
     "end_time": "2024-06-06T19:36:44.548732",
     "exception": false,
     "start_time": "2024-06-06T19:36:44.531951",
     "status": "completed"
    },
    "tags": []
   },
   "outputs": [
    {
     "name": "stdout",
     "output_type": "stream",
     "text": [
      "No. of training examples: 425\n",
      "No. of testing examples: 107\n"
     ]
    }
   ],
   "source": [
    "print(f\"No. of training examples: {training_data.shape[0]}\")\n",
    "print(f\"No. of testing examples: {testing_data.shape[0]}\")"
   ]
  },
  {
   "cell_type": "code",
   "execution_count": 13,
   "id": "595aadd5",
   "metadata": {
    "execution": {
     "iopub.execute_input": "2024-06-06T19:36:44.564306Z",
     "iopub.status.busy": "2024-06-06T19:36:44.563923Z",
     "iopub.status.idle": "2024-06-06T19:36:44.573595Z",
     "shell.execute_reply": "2024-06-06T19:36:44.572382Z"
    },
    "papermill": {
     "duration": 0.020057,
     "end_time": "2024-06-06T19:36:44.575777",
     "exception": false,
     "start_time": "2024-06-06T19:36:44.555720",
     "status": "completed"
    },
    "tags": []
   },
   "outputs": [],
   "source": [
    "X_train = training_data[features]\n",
    "y_train = training_data['Outcome']\n",
    "X_test = testing_data[features]\n",
    "y_test = np.array(testing_data['Outcome'])"
   ]
  },
  {
   "cell_type": "code",
   "execution_count": 14,
   "id": "a2fca30d",
   "metadata": {
    "execution": {
     "iopub.execute_input": "2024-06-06T19:36:44.591507Z",
     "iopub.status.busy": "2024-06-06T19:36:44.591078Z",
     "iopub.status.idle": "2024-06-06T19:36:44.602999Z",
     "shell.execute_reply": "2024-06-06T19:36:44.601923Z"
    },
    "papermill": {
     "duration": 0.023266,
     "end_time": "2024-06-06T19:36:44.605976",
     "exception": false,
     "start_time": "2024-06-06T19:36:44.582710",
     "status": "completed"
    },
    "tags": []
   },
   "outputs": [],
   "source": [
    "dtree = DecisionTreeClassifier()\n",
    "dtree = dtree.fit(X_train, y_train)"
   ]
  },
  {
   "cell_type": "code",
   "execution_count": 15,
   "id": "ca4efc50",
   "metadata": {
    "execution": {
     "iopub.execute_input": "2024-06-06T19:36:44.622131Z",
     "iopub.status.busy": "2024-06-06T19:36:44.621747Z",
     "iopub.status.idle": "2024-06-06T19:36:44.629556Z",
     "shell.execute_reply": "2024-06-06T19:36:44.628134Z"
    },
    "papermill": {
     "duration": 0.018714,
     "end_time": "2024-06-06T19:36:44.632155",
     "exception": false,
     "start_time": "2024-06-06T19:36:44.613441",
     "status": "completed"
    },
    "tags": []
   },
   "outputs": [],
   "source": [
    "y_predict = dtree.predict(X_test)"
   ]
  },
  {
   "cell_type": "code",
   "execution_count": 16,
   "id": "921adec0",
   "metadata": {
    "execution": {
     "iopub.execute_input": "2024-06-06T19:36:44.648549Z",
     "iopub.status.busy": "2024-06-06T19:36:44.648129Z",
     "iopub.status.idle": "2024-06-06T19:36:44.663012Z",
     "shell.execute_reply": "2024-06-06T19:36:44.661771Z"
    },
    "papermill": {
     "duration": 0.025868,
     "end_time": "2024-06-06T19:36:44.665616",
     "exception": false,
     "start_time": "2024-06-06T19:36:44.639748",
     "status": "completed"
    },
    "tags": []
   },
   "outputs": [
    {
     "name": "stdout",
     "output_type": "stream",
     "text": [
      "Accuracy:  0.73\n",
      "Precision:  0.65\n",
      "Recall:  0.56\n",
      "F1 Score:  0.6\n"
     ]
    }
   ],
   "source": [
    "score = accuracy_score(y_test,y_predict)\n",
    "precision = precision_score(y_test, y_predict)\n",
    "recall = recall_score(y_test, y_predict)\n",
    "f1 = f1_score(y_test, y_predict)\n",
    "print(\"Accuracy: \", round(score,2))\n",
    "print(\"Precision: \",round(precision,2))\n",
    "print(\"Recall: \",round(recall,2))\n",
    "print(\"F1 Score: \", round(f1,2) )"
   ]
  }
 ],
 "metadata": {
  "kaggle": {
   "accelerator": "none",
   "dataSources": [
    {
     "datasetId": 818300,
     "sourceId": 1400440,
     "sourceType": "datasetVersion"
    }
   ],
   "dockerImageVersionId": 30715,
   "isGpuEnabled": false,
   "isInternetEnabled": true,
   "language": "python",
   "sourceType": "notebook"
  },
  "kernelspec": {
   "display_name": "Python 3",
   "language": "python",
   "name": "python3"
  },
  "language_info": {
   "codemirror_mode": {
    "name": "ipython",
    "version": 3
   },
   "file_extension": ".py",
   "mimetype": "text/x-python",
   "name": "python",
   "nbconvert_exporter": "python",
   "pygments_lexer": "ipython3",
   "version": "3.10.13"
  },
  "papermill": {
   "default_parameters": {},
   "duration": 8.113893,
   "end_time": "2024-06-06T19:36:45.294617",
   "environment_variables": {},
   "exception": null,
   "input_path": "__notebook__.ipynb",
   "output_path": "__notebook__.ipynb",
   "parameters": {},
   "start_time": "2024-06-06T19:36:37.180724",
   "version": "2.5.0"
  }
 },
 "nbformat": 4,
 "nbformat_minor": 5
}
