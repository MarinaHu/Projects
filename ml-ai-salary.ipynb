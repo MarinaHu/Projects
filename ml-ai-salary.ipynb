{
 "cells": [
  {
   "cell_type": "code",
   "execution_count": 1,
   "id": "a8a696e2",
   "metadata": {
    "_cell_guid": "b1076dfc-b9ad-4769-8c92-a6c4dae69d19",
    "_uuid": "8f2839f25d086af736a60e9eeb907d3b93b6e0e5",
    "execution": {
     "iopub.execute_input": "2024-07-07T20:45:44.461480Z",
     "iopub.status.busy": "2024-07-07T20:45:44.461077Z",
     "iopub.status.idle": "2024-07-07T20:45:47.132012Z",
     "shell.execute_reply": "2024-07-07T20:45:47.130598Z"
    },
    "papermill": {
     "duration": 2.686818,
     "end_time": "2024-07-07T20:45:47.135162",
     "exception": false,
     "start_time": "2024-07-07T20:45:44.448344",
     "status": "completed"
    },
    "tags": []
   },
   "outputs": [
    {
     "name": "stdout",
     "output_type": "stream",
     "text": [
      "/kaggle/input/ai-ml-salaries/salaries.csv\n"
     ]
    }
   ],
   "source": [
    "# This Python 3 environment comes with many helpful analytics libraries installed\n",
    "# It is defined by the kaggle/python Docker image: https://github.com/kaggle/docker-python\n",
    "# For example, here's several helpful packages to load\n",
    "\n",
    "import numpy as np # linear algebra\n",
    "import pandas as pd # data processing, CSV file I/O (e.g. pd.read_csv)\n",
    "import matplotlib.pyplot as plt\n",
    "import seaborn as sns\n",
    "\n",
    "# Input data files are available in the read-only \"../input/\" directory\n",
    "# For example, running this (by clicking run or pressing Shift+Enter) will list all files under the input directory\n",
    "\n",
    "import os\n",
    "for dirname, _, filenames in os.walk('/kaggle/input'):\n",
    "    for filename in filenames:\n",
    "        print(os.path.join(dirname, filename))\n",
    "\n",
    "# You can write up to 20GB to the current directory (/kaggle/working/) that gets preserved as output when you create a version using \"Save & Run All\" \n",
    "# You can also write temporary files to /kaggle/temp/, but they won't be saved outside of the current session"
   ]
  },
  {
   "cell_type": "markdown",
   "id": "8a43c348",
   "metadata": {
    "papermill": {
     "duration": 0.007432,
     "end_time": "2024-07-07T20:45:47.150239",
     "exception": false,
     "start_time": "2024-07-07T20:45:47.142807",
     "status": "completed"
    },
    "tags": []
   },
   "source": [
    "# Import Data"
   ]
  },
  {
   "cell_type": "code",
   "execution_count": 2,
   "id": "a6e8ca8c",
   "metadata": {
    "execution": {
     "iopub.execute_input": "2024-07-07T20:45:47.167042Z",
     "iopub.status.busy": "2024-07-07T20:45:47.166474Z",
     "iopub.status.idle": "2024-07-07T20:45:47.269405Z",
     "shell.execute_reply": "2024-07-07T20:45:47.268142Z"
    },
    "papermill": {
     "duration": 0.114631,
     "end_time": "2024-07-07T20:45:47.272168",
     "exception": false,
     "start_time": "2024-07-07T20:45:47.157537",
     "status": "completed"
    },
    "tags": []
   },
   "outputs": [
    {
     "data": {
      "text/html": [
       "<div>\n",
       "<style scoped>\n",
       "    .dataframe tbody tr th:only-of-type {\n",
       "        vertical-align: middle;\n",
       "    }\n",
       "\n",
       "    .dataframe tbody tr th {\n",
       "        vertical-align: top;\n",
       "    }\n",
       "\n",
       "    .dataframe thead th {\n",
       "        text-align: right;\n",
       "    }\n",
       "</style>\n",
       "<table border=\"1\" class=\"dataframe\">\n",
       "  <thead>\n",
       "    <tr style=\"text-align: right;\">\n",
       "      <th></th>\n",
       "      <th>work_year</th>\n",
       "      <th>experience_level</th>\n",
       "      <th>employment_type</th>\n",
       "      <th>job_title</th>\n",
       "      <th>salary</th>\n",
       "      <th>salary_currency</th>\n",
       "      <th>salary_in_usd</th>\n",
       "      <th>employee_residence</th>\n",
       "      <th>remote_ratio</th>\n",
       "      <th>company_location</th>\n",
       "      <th>company_size</th>\n",
       "    </tr>\n",
       "  </thead>\n",
       "  <tbody>\n",
       "    <tr>\n",
       "      <th>0</th>\n",
       "      <td>2024</td>\n",
       "      <td>MI</td>\n",
       "      <td>FT</td>\n",
       "      <td>Analytics Engineer</td>\n",
       "      <td>77500</td>\n",
       "      <td>CAD</td>\n",
       "      <td>59615</td>\n",
       "      <td>CA</td>\n",
       "      <td>100</td>\n",
       "      <td>CA</td>\n",
       "      <td>S</td>\n",
       "    </tr>\n",
       "    <tr>\n",
       "      <th>1</th>\n",
       "      <td>2024</td>\n",
       "      <td>SE</td>\n",
       "      <td>FT</td>\n",
       "      <td>AI Developer</td>\n",
       "      <td>252000</td>\n",
       "      <td>USD</td>\n",
       "      <td>252000</td>\n",
       "      <td>US</td>\n",
       "      <td>0</td>\n",
       "      <td>US</td>\n",
       "      <td>M</td>\n",
       "    </tr>\n",
       "    <tr>\n",
       "      <th>2</th>\n",
       "      <td>2024</td>\n",
       "      <td>SE</td>\n",
       "      <td>FT</td>\n",
       "      <td>AI Developer</td>\n",
       "      <td>168000</td>\n",
       "      <td>USD</td>\n",
       "      <td>168000</td>\n",
       "      <td>US</td>\n",
       "      <td>0</td>\n",
       "      <td>US</td>\n",
       "      <td>M</td>\n",
       "    </tr>\n",
       "    <tr>\n",
       "      <th>3</th>\n",
       "      <td>2024</td>\n",
       "      <td>MI</td>\n",
       "      <td>FT</td>\n",
       "      <td>Data Scientist</td>\n",
       "      <td>199500</td>\n",
       "      <td>USD</td>\n",
       "      <td>199500</td>\n",
       "      <td>US</td>\n",
       "      <td>100</td>\n",
       "      <td>US</td>\n",
       "      <td>M</td>\n",
       "    </tr>\n",
       "    <tr>\n",
       "      <th>4</th>\n",
       "      <td>2024</td>\n",
       "      <td>MI</td>\n",
       "      <td>FT</td>\n",
       "      <td>Data Scientist</td>\n",
       "      <td>86700</td>\n",
       "      <td>USD</td>\n",
       "      <td>86700</td>\n",
       "      <td>US</td>\n",
       "      <td>100</td>\n",
       "      <td>US</td>\n",
       "      <td>M</td>\n",
       "    </tr>\n",
       "  </tbody>\n",
       "</table>\n",
       "</div>"
      ],
      "text/plain": [
       "   work_year experience_level employment_type           job_title  salary  \\\n",
       "0       2024               MI              FT  Analytics Engineer   77500   \n",
       "1       2024               SE              FT        AI Developer  252000   \n",
       "2       2024               SE              FT        AI Developer  168000   \n",
       "3       2024               MI              FT      Data Scientist  199500   \n",
       "4       2024               MI              FT      Data Scientist   86700   \n",
       "\n",
       "  salary_currency  salary_in_usd employee_residence  remote_ratio  \\\n",
       "0             CAD          59615                 CA           100   \n",
       "1             USD         252000                 US             0   \n",
       "2             USD         168000                 US             0   \n",
       "3             USD         199500                 US           100   \n",
       "4             USD          86700                 US           100   \n",
       "\n",
       "  company_location company_size  \n",
       "0               CA            S  \n",
       "1               US            M  \n",
       "2               US            M  \n",
       "3               US            M  \n",
       "4               US            M  "
      ]
     },
     "execution_count": 2,
     "metadata": {},
     "output_type": "execute_result"
    }
   ],
   "source": [
    "data = pd.read_csv(\"/kaggle/input/ai-ml-salaries/salaries.csv\")\n",
    "data.head()"
   ]
  },
  {
   "cell_type": "code",
   "execution_count": 3,
   "id": "cdeab99a",
   "metadata": {
    "execution": {
     "iopub.execute_input": "2024-07-07T20:45:47.291510Z",
     "iopub.status.busy": "2024-07-07T20:45:47.289694Z",
     "iopub.status.idle": "2024-07-07T20:45:47.332027Z",
     "shell.execute_reply": "2024-07-07T20:45:47.330716Z"
    },
    "papermill": {
     "duration": 0.054923,
     "end_time": "2024-07-07T20:45:47.334838",
     "exception": false,
     "start_time": "2024-07-07T20:45:47.279915",
     "status": "completed"
    },
    "tags": []
   },
   "outputs": [
    {
     "name": "stdout",
     "output_type": "stream",
     "text": [
      "<class 'pandas.core.frame.DataFrame'>\n",
      "RangeIndex: 18056 entries, 0 to 18055\n",
      "Data columns (total 11 columns):\n",
      " #   Column              Non-Null Count  Dtype \n",
      "---  ------              --------------  ----- \n",
      " 0   work_year           18056 non-null  int64 \n",
      " 1   experience_level    18056 non-null  object\n",
      " 2   employment_type     18056 non-null  object\n",
      " 3   job_title           18056 non-null  object\n",
      " 4   salary              18056 non-null  int64 \n",
      " 5   salary_currency     18056 non-null  object\n",
      " 6   salary_in_usd       18056 non-null  int64 \n",
      " 7   employee_residence  18056 non-null  object\n",
      " 8   remote_ratio        18056 non-null  int64 \n",
      " 9   company_location    18056 non-null  object\n",
      " 10  company_size        18056 non-null  object\n",
      "dtypes: int64(4), object(7)\n",
      "memory usage: 1.5+ MB\n"
     ]
    }
   ],
   "source": [
    "data.info()"
   ]
  },
  {
   "cell_type": "code",
   "execution_count": 4,
   "id": "73997e58",
   "metadata": {
    "execution": {
     "iopub.execute_input": "2024-07-07T20:45:47.352784Z",
     "iopub.status.busy": "2024-07-07T20:45:47.352366Z",
     "iopub.status.idle": "2024-07-07T20:45:47.383524Z",
     "shell.execute_reply": "2024-07-07T20:45:47.382344Z"
    },
    "papermill": {
     "duration": 0.043718,
     "end_time": "2024-07-07T20:45:47.386283",
     "exception": false,
     "start_time": "2024-07-07T20:45:47.342565",
     "status": "completed"
    },
    "tags": []
   },
   "outputs": [
    {
     "data": {
      "text/html": [
       "<div>\n",
       "<style scoped>\n",
       "    .dataframe tbody tr th:only-of-type {\n",
       "        vertical-align: middle;\n",
       "    }\n",
       "\n",
       "    .dataframe tbody tr th {\n",
       "        vertical-align: top;\n",
       "    }\n",
       "\n",
       "    .dataframe thead th {\n",
       "        text-align: right;\n",
       "    }\n",
       "</style>\n",
       "<table border=\"1\" class=\"dataframe\">\n",
       "  <thead>\n",
       "    <tr style=\"text-align: right;\">\n",
       "      <th></th>\n",
       "      <th>work_year</th>\n",
       "      <th>salary</th>\n",
       "      <th>salary_in_usd</th>\n",
       "      <th>remote_ratio</th>\n",
       "    </tr>\n",
       "  </thead>\n",
       "  <tbody>\n",
       "    <tr>\n",
       "      <th>count</th>\n",
       "      <td>18056.000000</td>\n",
       "      <td>1.805600e+04</td>\n",
       "      <td>18056.000000</td>\n",
       "      <td>18056.000000</td>\n",
       "    </tr>\n",
       "    <tr>\n",
       "      <th>mean</th>\n",
       "      <td>2023.292036</td>\n",
       "      <td>1.638751e+05</td>\n",
       "      <td>150856.152913</td>\n",
       "      <td>30.884471</td>\n",
       "    </tr>\n",
       "    <tr>\n",
       "      <th>std</th>\n",
       "      <td>0.715810</td>\n",
       "      <td>3.265629e+05</td>\n",
       "      <td>68728.941915</td>\n",
       "      <td>45.828340</td>\n",
       "    </tr>\n",
       "    <tr>\n",
       "      <th>min</th>\n",
       "      <td>2020.000000</td>\n",
       "      <td>1.400000e+04</td>\n",
       "      <td>15000.000000</td>\n",
       "      <td>0.000000</td>\n",
       "    </tr>\n",
       "    <tr>\n",
       "      <th>25%</th>\n",
       "      <td>2023.000000</td>\n",
       "      <td>1.040000e+05</td>\n",
       "      <td>103500.000000</td>\n",
       "      <td>0.000000</td>\n",
       "    </tr>\n",
       "    <tr>\n",
       "      <th>50%</th>\n",
       "      <td>2023.000000</td>\n",
       "      <td>1.430000e+05</td>\n",
       "      <td>142200.000000</td>\n",
       "      <td>0.000000</td>\n",
       "    </tr>\n",
       "    <tr>\n",
       "      <th>75%</th>\n",
       "      <td>2024.000000</td>\n",
       "      <td>1.900000e+05</td>\n",
       "      <td>188500.000000</td>\n",
       "      <td>100.000000</td>\n",
       "    </tr>\n",
       "    <tr>\n",
       "      <th>max</th>\n",
       "      <td>2024.000000</td>\n",
       "      <td>3.040000e+07</td>\n",
       "      <td>800000.000000</td>\n",
       "      <td>100.000000</td>\n",
       "    </tr>\n",
       "  </tbody>\n",
       "</table>\n",
       "</div>"
      ],
      "text/plain": [
       "          work_year        salary  salary_in_usd  remote_ratio\n",
       "count  18056.000000  1.805600e+04   18056.000000  18056.000000\n",
       "mean    2023.292036  1.638751e+05  150856.152913     30.884471\n",
       "std        0.715810  3.265629e+05   68728.941915     45.828340\n",
       "min     2020.000000  1.400000e+04   15000.000000      0.000000\n",
       "25%     2023.000000  1.040000e+05  103500.000000      0.000000\n",
       "50%     2023.000000  1.430000e+05  142200.000000      0.000000\n",
       "75%     2024.000000  1.900000e+05  188500.000000    100.000000\n",
       "max     2024.000000  3.040000e+07  800000.000000    100.000000"
      ]
     },
     "execution_count": 4,
     "metadata": {},
     "output_type": "execute_result"
    }
   ],
   "source": [
    "data.describe()"
   ]
  },
  {
   "cell_type": "code",
   "execution_count": 5,
   "id": "a59df3c8",
   "metadata": {
    "execution": {
     "iopub.execute_input": "2024-07-07T20:45:47.404106Z",
     "iopub.status.busy": "2024-07-07T20:45:47.403730Z",
     "iopub.status.idle": "2024-07-07T20:45:47.411441Z",
     "shell.execute_reply": "2024-07-07T20:45:47.410177Z"
    },
    "papermill": {
     "duration": 0.019787,
     "end_time": "2024-07-07T20:45:47.414060",
     "exception": false,
     "start_time": "2024-07-07T20:45:47.394273",
     "status": "completed"
    },
    "tags": []
   },
   "outputs": [
    {
     "data": {
      "text/plain": [
       "(18056, 11)"
      ]
     },
     "execution_count": 5,
     "metadata": {},
     "output_type": "execute_result"
    }
   ],
   "source": [
    "data.shape"
   ]
  },
  {
   "cell_type": "code",
   "execution_count": 6,
   "id": "f360036f",
   "metadata": {
    "execution": {
     "iopub.execute_input": "2024-07-07T20:45:47.432112Z",
     "iopub.status.busy": "2024-07-07T20:45:47.431717Z",
     "iopub.status.idle": "2024-07-07T20:45:47.439677Z",
     "shell.execute_reply": "2024-07-07T20:45:47.438418Z"
    },
    "papermill": {
     "duration": 0.020256,
     "end_time": "2024-07-07T20:45:47.442581",
     "exception": false,
     "start_time": "2024-07-07T20:45:47.422325",
     "status": "completed"
    },
    "tags": []
   },
   "outputs": [
    {
     "name": "stdout",
     "output_type": "stream",
     "text": [
      "143\n"
     ]
    }
   ],
   "source": [
    "print(data['job_title'].nunique())"
   ]
  },
  {
   "cell_type": "code",
   "execution_count": 7,
   "id": "37be746c",
   "metadata": {
    "execution": {
     "iopub.execute_input": "2024-07-07T20:45:47.460869Z",
     "iopub.status.busy": "2024-07-07T20:45:47.460434Z",
     "iopub.status.idle": "2024-07-07T20:45:47.472545Z",
     "shell.execute_reply": "2024-07-07T20:45:47.471033Z"
    },
    "papermill": {
     "duration": 0.024575,
     "end_time": "2024-07-07T20:45:47.475442",
     "exception": false,
     "start_time": "2024-07-07T20:45:47.450867",
     "status": "completed"
    },
    "tags": []
   },
   "outputs": [
    {
     "name": "stdout",
     "output_type": "stream",
     "text": [
      "job_title\n",
      "Data Scientist                     4284\n",
      "Data Engineer                      3724\n",
      "Data Analyst                       2604\n",
      "Machine Learning Engineer          2030\n",
      "Research Scientist                  715\n",
      "                                   ... \n",
      "Marketing Data Scientist              1\n",
      "Marketing Data Engineer               1\n",
      "CRM Data Analyst                      1\n",
      "Cloud Data Architect                  1\n",
      "Staff Machine Learning Engineer       1\n",
      "Name: count, Length: 143, dtype: int64\n"
     ]
    }
   ],
   "source": [
    "print(data.value_counts('job_title'))"
   ]
  },
  {
   "cell_type": "code",
   "execution_count": 8,
   "id": "627befd4",
   "metadata": {
    "execution": {
     "iopub.execute_input": "2024-07-07T20:45:47.494849Z",
     "iopub.status.busy": "2024-07-07T20:45:47.493582Z",
     "iopub.status.idle": "2024-07-07T20:45:47.628552Z",
     "shell.execute_reply": "2024-07-07T20:45:47.627350Z"
    },
    "papermill": {
     "duration": 0.147245,
     "end_time": "2024-07-07T20:45:47.631242",
     "exception": false,
     "start_time": "2024-07-07T20:45:47.483997",
     "status": "completed"
    },
    "tags": []
   },
   "outputs": [
    {
     "data": {
      "text/html": [
       "<div>\n",
       "<style scoped>\n",
       "    .dataframe tbody tr th:only-of-type {\n",
       "        vertical-align: middle;\n",
       "    }\n",
       "\n",
       "    .dataframe tbody tr th {\n",
       "        vertical-align: top;\n",
       "    }\n",
       "\n",
       "    .dataframe thead th {\n",
       "        text-align: right;\n",
       "    }\n",
       "</style>\n",
       "<table border=\"1\" class=\"dataframe\">\n",
       "  <thead>\n",
       "    <tr style=\"text-align: right;\">\n",
       "      <th></th>\n",
       "      <th>job_title</th>\n",
       "      <th>job_category</th>\n",
       "    </tr>\n",
       "  </thead>\n",
       "  <tbody>\n",
       "    <tr>\n",
       "      <th>0</th>\n",
       "      <td>Analytics Engineer</td>\n",
       "      <td>data_analyst</td>\n",
       "    </tr>\n",
       "    <tr>\n",
       "      <th>1</th>\n",
       "      <td>AI Developer</td>\n",
       "      <td>ml_engineer</td>\n",
       "    </tr>\n",
       "    <tr>\n",
       "      <th>2</th>\n",
       "      <td>AI Developer</td>\n",
       "      <td>ml_engineer</td>\n",
       "    </tr>\n",
       "    <tr>\n",
       "      <th>3</th>\n",
       "      <td>Data Scientist</td>\n",
       "      <td>data_scientist</td>\n",
       "    </tr>\n",
       "    <tr>\n",
       "      <th>4</th>\n",
       "      <td>Data Scientist</td>\n",
       "      <td>data_scientist</td>\n",
       "    </tr>\n",
       "  </tbody>\n",
       "</table>\n",
       "</div>"
      ],
      "text/plain": [
       "            job_title    job_category\n",
       "0  Analytics Engineer    data_analyst\n",
       "1        AI Developer     ml_engineer\n",
       "2        AI Developer     ml_engineer\n",
       "3      Data Scientist  data_scientist\n",
       "4      Data Scientist  data_scientist"
      ]
     },
     "execution_count": 8,
     "metadata": {},
     "output_type": "execute_result"
    }
   ],
   "source": [
    "job_categories = ['data_scientist','data_analyst','data_engineer','ml_engineer','manager','consultant']\n",
    "\n",
    "data_scientist = \"Data Scientist|NLP|Research Scientist|Applied Scientist\"\n",
    "data_analyst = \"Analyst|Analytics|Data Specialist|Data Visualization Specialist|Business Intelligence|Data Strategist\"\n",
    "data_engineer = \"Data Engineer|ETL|Architect|Infrastructure|Business Intelligence Engineer|BI Developer|Business Intelligence Developer\"\n",
    "ml_engineer = \"Machine Learning|ML|Big Data|AI|Research Engineer|Prompt Engineer|Robotics Engineer|Computer Vision Engineer|Robotics Software Engineer\"\n",
    "manager = \"Manager|Head|Director|Lead|Principal|Staff|Data Product Owner|Data Management Specialist\"\n",
    "consultant = \"Consultant|Freelance\"\n",
    "\n",
    "conditions = [\n",
    "    (data[\"job_title\"].str.contains(data_scientist)),\n",
    "    (data[\"job_title\"].str.contains(data_analyst)),\n",
    "    (data[\"job_title\"].str.contains(data_engineer)),\n",
    "    (data[\"job_title\"].str.contains(ml_engineer)),\n",
    "    (data[\"job_title\"].str.contains(manager)),\n",
    "    (data[\"job_title\"].str.contains(consultant)),\n",
    "]\n",
    "\n",
    "data[\"job_category\"] = np.select(conditions,\n",
    "                                job_categories,\n",
    "                                default = \"Other\")\n",
    "\n",
    "data[['job_title','job_category']].head()"
   ]
  },
  {
   "cell_type": "code",
   "execution_count": 9,
   "id": "c8ef9444",
   "metadata": {
    "execution": {
     "iopub.execute_input": "2024-07-07T20:45:47.650406Z",
     "iopub.status.busy": "2024-07-07T20:45:47.649988Z",
     "iopub.status.idle": "2024-07-07T20:45:47.664215Z",
     "shell.execute_reply": "2024-07-07T20:45:47.662866Z"
    },
    "papermill": {
     "duration": 0.027769,
     "end_time": "2024-07-07T20:45:47.667792",
     "exception": false,
     "start_time": "2024-07-07T20:45:47.640023",
     "status": "completed"
    },
    "tags": []
   },
   "outputs": [
    {
     "name": "stdout",
     "output_type": "stream",
     "text": [
      "job_category\n",
      "data_scientist    5552\n",
      "data_engineer     4464\n",
      "data_analyst      4370\n",
      "ml_engineer       2989\n",
      "manager            407\n",
      "Other              272\n",
      "consultant           2\n",
      "Name: count, dtype: int64\n",
      "employment_type\n",
      "FT    17974\n",
      "PT       38\n",
      "CT       30\n",
      "FL       14\n",
      "Name: count, dtype: int64\n"
     ]
    }
   ],
   "source": [
    "print(data.value_counts('job_category'))\n",
    "print(data.value_counts('employment_type'))"
   ]
  },
  {
   "cell_type": "code",
   "execution_count": 10,
   "id": "30bd89ff",
   "metadata": {
    "execution": {
     "iopub.execute_input": "2024-07-07T20:45:47.687718Z",
     "iopub.status.busy": "2024-07-07T20:45:47.687315Z",
     "iopub.status.idle": "2024-07-07T20:45:47.713372Z",
     "shell.execute_reply": "2024-07-07T20:45:47.712002Z"
    },
    "papermill": {
     "duration": 0.039347,
     "end_time": "2024-07-07T20:45:47.716423",
     "exception": false,
     "start_time": "2024-07-07T20:45:47.677076",
     "status": "completed"
    },
    "tags": []
   },
   "outputs": [
    {
     "data": {
      "text/html": [
       "<div>\n",
       "<style scoped>\n",
       "    .dataframe tbody tr th:only-of-type {\n",
       "        vertical-align: middle;\n",
       "    }\n",
       "\n",
       "    .dataframe tbody tr th {\n",
       "        vertical-align: top;\n",
       "    }\n",
       "\n",
       "    .dataframe thead th {\n",
       "        text-align: right;\n",
       "    }\n",
       "</style>\n",
       "<table border=\"1\" class=\"dataframe\">\n",
       "  <thead>\n",
       "    <tr style=\"text-align: right;\">\n",
       "      <th></th>\n",
       "      <th>work_year</th>\n",
       "      <th>experience_level</th>\n",
       "      <th>employment_type</th>\n",
       "      <th>job_title</th>\n",
       "      <th>salary</th>\n",
       "      <th>salary_currency</th>\n",
       "      <th>salary_in_usd</th>\n",
       "      <th>employee_residence</th>\n",
       "      <th>remote_ratio</th>\n",
       "      <th>company_location</th>\n",
       "      <th>company_size</th>\n",
       "      <th>job_category</th>\n",
       "    </tr>\n",
       "  </thead>\n",
       "  <tbody>\n",
       "    <tr>\n",
       "      <th>1129</th>\n",
       "      <td>2024</td>\n",
       "      <td>MI</td>\n",
       "      <td>FT</td>\n",
       "      <td>Data Modeler</td>\n",
       "      <td>114000</td>\n",
       "      <td>USD</td>\n",
       "      <td>114000</td>\n",
       "      <td>CA</td>\n",
       "      <td>0</td>\n",
       "      <td>CA</td>\n",
       "      <td>M</td>\n",
       "      <td>Other</td>\n",
       "    </tr>\n",
       "    <tr>\n",
       "      <th>1130</th>\n",
       "      <td>2024</td>\n",
       "      <td>MI</td>\n",
       "      <td>FT</td>\n",
       "      <td>Data Modeler</td>\n",
       "      <td>69000</td>\n",
       "      <td>USD</td>\n",
       "      <td>69000</td>\n",
       "      <td>CA</td>\n",
       "      <td>0</td>\n",
       "      <td>CA</td>\n",
       "      <td>M</td>\n",
       "      <td>Other</td>\n",
       "    </tr>\n",
       "    <tr>\n",
       "      <th>1373</th>\n",
       "      <td>2024</td>\n",
       "      <td>SE</td>\n",
       "      <td>FT</td>\n",
       "      <td>Data Integration Engineer</td>\n",
       "      <td>256500</td>\n",
       "      <td>USD</td>\n",
       "      <td>256500</td>\n",
       "      <td>US</td>\n",
       "      <td>0</td>\n",
       "      <td>US</td>\n",
       "      <td>M</td>\n",
       "      <td>Other</td>\n",
       "    </tr>\n",
       "    <tr>\n",
       "      <th>1374</th>\n",
       "      <td>2024</td>\n",
       "      <td>SE</td>\n",
       "      <td>FT</td>\n",
       "      <td>Data Integration Engineer</td>\n",
       "      <td>170700</td>\n",
       "      <td>USD</td>\n",
       "      <td>170700</td>\n",
       "      <td>US</td>\n",
       "      <td>0</td>\n",
       "      <td>US</td>\n",
       "      <td>M</td>\n",
       "      <td>Other</td>\n",
       "    </tr>\n",
       "    <tr>\n",
       "      <th>1582</th>\n",
       "      <td>2024</td>\n",
       "      <td>SE</td>\n",
       "      <td>FT</td>\n",
       "      <td>Data Modeler</td>\n",
       "      <td>140000</td>\n",
       "      <td>USD</td>\n",
       "      <td>140000</td>\n",
       "      <td>US</td>\n",
       "      <td>100</td>\n",
       "      <td>US</td>\n",
       "      <td>M</td>\n",
       "      <td>Other</td>\n",
       "    </tr>\n",
       "  </tbody>\n",
       "</table>\n",
       "</div>"
      ],
      "text/plain": [
       "      work_year experience_level employment_type                  job_title  \\\n",
       "1129       2024               MI              FT               Data Modeler   \n",
       "1130       2024               MI              FT               Data Modeler   \n",
       "1373       2024               SE              FT  Data Integration Engineer   \n",
       "1374       2024               SE              FT  Data Integration Engineer   \n",
       "1582       2024               SE              FT               Data Modeler   \n",
       "\n",
       "      salary salary_currency  salary_in_usd employee_residence  remote_ratio  \\\n",
       "1129  114000             USD         114000                 CA             0   \n",
       "1130   69000             USD          69000                 CA             0   \n",
       "1373  256500             USD         256500                 US             0   \n",
       "1374  170700             USD         170700                 US             0   \n",
       "1582  140000             USD         140000                 US           100   \n",
       "\n",
       "     company_location company_size job_category  \n",
       "1129               CA            M        Other  \n",
       "1130               CA            M        Other  \n",
       "1373               US            M        Other  \n",
       "1374               US            M        Other  \n",
       "1582               US            M        Other  "
      ]
     },
     "execution_count": 10,
     "metadata": {},
     "output_type": "execute_result"
    }
   ],
   "source": [
    "data[data['job_category']=='Other'].head()"
   ]
  },
  {
   "cell_type": "code",
   "execution_count": 11,
   "id": "19922737",
   "metadata": {
    "execution": {
     "iopub.execute_input": "2024-07-07T20:45:47.737017Z",
     "iopub.status.busy": "2024-07-07T20:45:47.736576Z",
     "iopub.status.idle": "2024-07-07T20:45:47.742427Z",
     "shell.execute_reply": "2024-07-07T20:45:47.741118Z"
    },
    "papermill": {
     "duration": 0.019285,
     "end_time": "2024-07-07T20:45:47.745364",
     "exception": false,
     "start_time": "2024-07-07T20:45:47.726079",
     "status": "completed"
    },
    "tags": []
   },
   "outputs": [],
   "source": [
    "#data[~data['employment_type'].isin(['FT','PT','CT'])].head()"
   ]
  },
  {
   "cell_type": "code",
   "execution_count": 12,
   "id": "51f9828f",
   "metadata": {
    "execution": {
     "iopub.execute_input": "2024-07-07T20:45:47.765584Z",
     "iopub.status.busy": "2024-07-07T20:45:47.765206Z",
     "iopub.status.idle": "2024-07-07T20:45:47.787432Z",
     "shell.execute_reply": "2024-07-07T20:45:47.786267Z"
    },
    "papermill": {
     "duration": 0.035163,
     "end_time": "2024-07-07T20:45:47.790017",
     "exception": false,
     "start_time": "2024-07-07T20:45:47.754854",
     "status": "completed"
    },
    "tags": []
   },
   "outputs": [
    {
     "name": "stdout",
     "output_type": "stream",
     "text": [
      "job_category\n",
      "data_scientist    5521\n",
      "data_engineer     4455\n",
      "data_analyst      4348\n",
      "ml_engineer       2972\n",
      "manager            406\n",
      "Other              270\n",
      "Name: count, dtype: int64\n"
     ]
    }
   ],
   "source": [
    "data = data[(data['job_category']!='consultant') & (data['employment_type'] == 'FT')]\n",
    "print(data.value_counts('job_category'))"
   ]
  },
  {
   "cell_type": "code",
   "execution_count": 13,
   "id": "f8e169ae",
   "metadata": {
    "execution": {
     "iopub.execute_input": "2024-07-07T20:45:47.810210Z",
     "iopub.status.busy": "2024-07-07T20:45:47.809806Z",
     "iopub.status.idle": "2024-07-07T20:45:48.399981Z",
     "shell.execute_reply": "2024-07-07T20:45:48.398679Z"
    },
    "papermill": {
     "duration": 0.603712,
     "end_time": "2024-07-07T20:45:48.402904",
     "exception": false,
     "start_time": "2024-07-07T20:45:47.799192",
     "status": "completed"
    },
    "tags": []
   },
   "outputs": [
    {
     "data": {
      "text/plain": [
       "(array([0, 1, 2, 3, 4, 5]),\n",
       " [Text(0, 0, 'data_scientist'),\n",
       "  Text(1, 0, 'data_engineer'),\n",
       "  Text(2, 0, 'data_analyst'),\n",
       "  Text(3, 0, 'ml_engineer'),\n",
       "  Text(4, 0, 'manager'),\n",
       "  Text(5, 0, 'Other')])"
      ]
     },
     "execution_count": 13,
     "metadata": {},
     "output_type": "execute_result"
    },
    {
     "data": {
      "image/png": "[encoded data removed]",
      "text/plain": [
       "<Figure size 640x480 with 1 Axes>"
      ]
     },
     "metadata": {},
     "output_type": "display_data"
    }
   ],
   "source": [
    "sns.countplot(data=data, x='job_category', order=data['job_category'].value_counts().index, color = 'blue', hue = 'work_year')\n",
    "plt.xticks(rotation=30)"
   ]
  },
  {
   "cell_type": "code",
   "execution_count": 14,
   "id": "dddc7091",
   "metadata": {
    "execution": {
     "iopub.execute_input": "2024-07-07T20:45:48.425533Z",
     "iopub.status.busy": "2024-07-07T20:45:48.425155Z",
     "iopub.status.idle": "2024-07-07T20:45:48.829187Z",
     "shell.execute_reply": "2024-07-07T20:45:48.827850Z"
    },
    "papermill": {
     "duration": 0.418297,
     "end_time": "2024-07-07T20:45:48.831887",
     "exception": false,
     "start_time": "2024-07-07T20:45:48.413590",
     "status": "completed"
    },
    "tags": []
   },
   "outputs": [
    {
     "name": "stdout",
     "output_type": "stream",
     "text": [
      "company_size\n",
      "M    16723\n",
      "L     1076\n",
      "S      173\n",
      "Name: count, dtype: int64\n"
     ]
    },
    {
     "data": {
      "text/plain": [
       "<Axes: xlabel='company_size', ylabel='count'>"
      ]
     },
     "execution_count": 14,
     "metadata": {},
     "output_type": "execute_result"
    },
    {
     "data": {
      "image/png": "[encoded data removed]",
      "text/plain": [
       "<Figure size 640x480 with 1 Axes>"
      ]
     },
     "metadata": {},
     "output_type": "display_data"
    }
   ],
   "source": [
    "print(data.value_counts('company_size'))\n",
    "sns.countplot(data=data, x='company_size', order=data['company_size'].value_counts().index, color = 'blue', hue = 'work_year')"
   ]
  },
  {
   "cell_type": "markdown",
   "id": "18c27971",
   "metadata": {
    "papermill": {
     "duration": 0.010068,
     "end_time": "2024-07-07T20:45:48.853220",
     "exception": false,
     "start_time": "2024-07-07T20:45:48.843152",
     "status": "completed"
    },
    "tags": []
   },
   "source": [
    "company_size: The average number of people that worked for the company during the year.\n",
    "\n",
    "S: less than 50 employees\n",
    "\n",
    "M: 50 to 250 employees\n",
    "\n",
    "L: more than 250 employees"
   ]
  },
  {
   "cell_type": "code",
   "execution_count": 15,
   "id": "746d3bf6",
   "metadata": {
    "execution": {
     "iopub.execute_input": "2024-07-07T20:45:48.876737Z",
     "iopub.status.busy": "2024-07-07T20:45:48.875551Z",
     "iopub.status.idle": "2024-07-07T20:45:49.261362Z",
     "shell.execute_reply": "2024-07-07T20:45:49.260030Z"
    },
    "papermill": {
     "duration": 0.400536,
     "end_time": "2024-07-07T20:45:49.264176",
     "exception": false,
     "start_time": "2024-07-07T20:45:48.863640",
     "status": "completed"
    },
    "tags": []
   },
   "outputs": [
    {
     "name": "stdout",
     "output_type": "stream",
     "text": [
      "remote_ratio\n",
      "0      12320\n",
      "100     5416\n",
      "50       236\n",
      "Name: count, dtype: int64\n"
     ]
    },
    {
     "data": {
      "text/plain": [
       "<Axes: xlabel='remote_ratio', ylabel='count'>"
      ]
     },
     "execution_count": 15,
     "metadata": {},
     "output_type": "execute_result"
    },
    {
     "data": {
      "image/png": "[encoded data removed]",
      "text/plain": [
       "<Figure size 640x480 with 1 Axes>"
      ]
     },
     "metadata": {},
     "output_type": "display_data"
    }
   ],
   "source": [
    "print(data.value_counts('remote_ratio'))\n",
    "sns.countplot(data=data, x='remote_ratio', order=data['remote_ratio'].value_counts().index, color = 'blue', hue = 'work_year')"
   ]
  },
  {
   "cell_type": "code",
   "execution_count": 16,
   "id": "943989a7",
   "metadata": {
    "execution": {
     "iopub.execute_input": "2024-07-07T20:45:49.288738Z",
     "iopub.status.busy": "2024-07-07T20:45:49.288189Z",
     "iopub.status.idle": "2024-07-07T20:45:49.664002Z",
     "shell.execute_reply": "2024-07-07T20:45:49.662530Z"
    },
    "papermill": {
     "duration": 0.391391,
     "end_time": "2024-07-07T20:45:49.667059",
     "exception": false,
     "start_time": "2024-07-07T20:45:49.275668",
     "status": "completed"
    },
    "tags": []
   },
   "outputs": [
    {
     "name": "stdout",
     "output_type": "stream",
     "text": [
      "experience_level\n",
      "SE    11468\n",
      "MI     4557\n",
      "EN     1425\n",
      "EX      522\n",
      "Name: count, dtype: int64\n"
     ]
    },
    {
     "data": {
      "text/plain": [
       "<Axes: xlabel='experience_level', ylabel='count'>"
      ]
     },
     "execution_count": 16,
     "metadata": {},
     "output_type": "execute_result"
    },
    {
     "data": {
      "image/png": "[encoded data removed]",
      "text/plain": [
       "<Figure size 640x480 with 1 Axes>"
      ]
     },
     "metadata": {},
     "output_type": "display_data"
    }
   ],
   "source": [
    "print(data.value_counts('experience_level'))\n",
    "sns.countplot(data=data, x='experience_level', order=data['experience_level'].value_counts().index, color = 'blue', hue = 'work_year')"
   ]
  },
  {
   "cell_type": "code",
   "execution_count": 17,
   "id": "c78efac2",
   "metadata": {
    "execution": {
     "iopub.execute_input": "2024-07-07T20:45:49.693983Z",
     "iopub.status.busy": "2024-07-07T20:45:49.693522Z",
     "iopub.status.idle": "2024-07-07T20:45:51.211236Z",
     "shell.execute_reply": "2024-07-07T20:45:51.210043Z"
    },
    "papermill": {
     "duration": 1.534809,
     "end_time": "2024-07-07T20:45:51.214012",
     "exception": false,
     "start_time": "2024-07-07T20:45:49.679203",
     "status": "completed"
    },
    "tags": []
   },
   "outputs": [
    {
     "data": {
      "text/plain": [
       "(array([0, 1, 2, 3, 4, 5]),\n",
       " [Text(0, 0, 'data_analyst'),\n",
       "  Text(1, 0, 'ml_engineer'),\n",
       "  Text(2, 0, 'data_scientist'),\n",
       "  Text(3, 0, 'data_engineer'),\n",
       "  Text(4, 0, 'manager'),\n",
       "  Text(5, 0, 'Other')])"
      ]
     },
     "execution_count": 17,
     "metadata": {},
     "output_type": "execute_result"
    },
    {
     "data": {
      "image/png": "[encoded data removed]",
      "text/plain": [
       "<Figure size 640x480 with 1 Axes>"
      ]
     },
     "metadata": {},
     "output_type": "display_data"
    }
   ],
   "source": [
    "sns.barplot(data=data, x = 'job_category' ,y='salary_in_usd', hue = 'work_year')\n",
    "plt.xticks(rotation=30)"
   ]
  },
  {
   "cell_type": "code",
   "execution_count": 18,
   "id": "e8236ac7",
   "metadata": {
    "execution": {
     "iopub.execute_input": "2024-07-07T20:45:51.242351Z",
     "iopub.status.busy": "2024-07-07T20:45:51.241912Z",
     "iopub.status.idle": "2024-07-07T20:45:52.577048Z",
     "shell.execute_reply": "2024-07-07T20:45:52.575721Z"
    },
    "papermill": {
     "duration": 1.352847,
     "end_time": "2024-07-07T20:45:52.579794",
     "exception": false,
     "start_time": "2024-07-07T20:45:51.226947",
     "status": "completed"
    },
    "tags": []
   },
   "outputs": [
    {
     "data": {
      "text/plain": [
       "(array([0, 1, 2, 3, 4, 5]),\n",
       " [Text(0, 0, 'data_analyst'),\n",
       "  Text(1, 0, 'data_engineer'),\n",
       "  Text(2, 0, 'data_scientist'),\n",
       "  Text(3, 0, 'ml_engineer'),\n",
       "  Text(4, 0, 'manager'),\n",
       "  Text(5, 0, 'Other')])"
      ]
     },
     "execution_count": 18,
     "metadata": {},
     "output_type": "execute_result"
    },
    {
     "data": {
      "image/png": "[encoded data removed]",
      "text/plain": [
       "<Figure size 640x480 with 1 Axes>"
      ]
     },
     "metadata": {},
     "output_type": "display_data"
    }
   ],
   "source": [
    "sns.barplot(data=data[data['experience_level']=='EN'], x = 'job_category' ,y='salary_in_usd', hue = 'work_year')\n",
    "plt.xticks(rotation=30)"
   ]
  }
 ],
 "metadata": {
  "kaggle": {
   "accelerator": "none",
   "dataSources": [
    {
     "datasetId": 2609772,
     "sourceId": 8365781,
     "sourceType": "datasetVersion"
    }
   ],
   "dockerImageVersionId": 30732,
   "isGpuEnabled": false,
   "isInternetEnabled": true,
   "language": "python",
   "sourceType": "notebook"
  },
  "kernelspec": {
   "display_name": "Python 3",
   "language": "python",
   "name": "python3"
  },
  "language_info": {
   "codemirror_mode": {
    "name": "ipython",
    "version": 3
   },
   "file_extension": ".py",
   "mimetype": "text/x-python",
   "name": "python",
   "nbconvert_exporter": "python",
   "pygments_lexer": "ipython3",
   "version": "3.10.13"
  },
  "papermill": {
   "default_parameters": {},
   "duration": 12.33492,
   "end_time": "2024-07-07T20:45:53.317994",
   "environment_variables": {},
   "exception": null,
   "input_path": "__notebook__.ipynb",
   "output_path": "__notebook__.ipynb",
   "parameters": {},
   "start_time": "2024-07-07T20:45:40.983074",
   "version": "2.5.0"
  }
 },
 "nbformat": 4,
 "nbformat_minor": 5
}
